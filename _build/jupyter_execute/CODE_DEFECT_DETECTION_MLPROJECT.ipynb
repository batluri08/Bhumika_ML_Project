{
 "cells": [
  {
   "cell_type": "markdown",
   "metadata": {},
   "source": [
    "# Python Jupyter Notebook"
   ]
  },
  {
   "cell_type": "markdown",
   "metadata": {},
   "source": [
    "The objective of this machine learning model is to solve a classification problem. \n",
    "\n",
    "This machine learning project focuses on predicting software defects using a dataset of software complexity metrics. The dataset contains 22 features, including measures such as cyclomatic complexity, lines of code, Halstead metrics, and branch counts, which quantify the structural and logical attributes of code. The target variable, defects, indicates whether a code segment contains a defect (True,1) or not (False,0). The goal of this project is to build a predictive model to classify code as defective or non-defective based on these metrics.  The dataset I have picked for this purpose is from open ml. \n",
    "\n",
    "These are the following steps I have performed :\n",
    "\n",
    "1. Loading the dataset into a database , normalizing it into 3NF form and fetching the data into a dataframe.\n",
    "2. Exploring the data , split it into train and test data after stratifying\n",
    "3. Used correlation matric and other metrics to analayze and explore the data\n",
    "4. Cleaned the data by removing low varience features , removing highly correlated features , handled outliers in train and test data ,   normalized Nuemric features  \n",
    "5. Initialized MLflow to track repo my \"atluribhumika08/Code_Defect_Detection_Project\"\n",
    "6. Created a pipeline for preprocessing (StandardScaler, MinMaxScaler, LogTransformation, OneHotEncoding) and Logistic Regression. Logged the F1-score;TP,TN,FN,FP; and results in Mlflow on Dagshub.\n",
    "7. Created a pipeline for preprocessing and used LogisticRegression, RidgeClassifier, RandomForestClassifier, and XGBClassifier.Logged the F1-score;TP,TN,FN,FP; and results in Mlflow on Dagshub.\n",
    "8. Performed feature engineering and attribute combination on LogisticRegression, RidgeClassifier, RandomForestClassifier, and XGBClassifier.Logged the F1-score;TP,TN,FN,FP; and results in Mlflow on Dagshub.\n",
    "9. Performed feature selection using Correlation Threshold, Feature Importance, and Variance Threshold on LogisticRegression, RidgeClassifier, RandomForestClassifier, and XGBClassifier.Logged the F1-score;TP,TN,FN,FP; and results in Mlflow on Dagshub.\n",
    "10. Used PCA for dimensionality reduction on all the features. Created a scree plot to show which components will be selected for classification. Applied this on LogisticRegression, RandomForestClassifier, and XGBClassifier. Logged results in MLFlow on Dagshub.\n",
    "11. Performed KNN on PCA reduced features.Logged results in MLFlow on Dagshub.\n",
    "12. Performed SVM .Logged results in MLFlow on Dagshub.\n",
    "13. Compared the F1 scores of models across all experiments \n",
    "14. Saved the final model using joblib as final_model.joblib.\n",
    "15. Creatde a FastAPI application to serve the model.\n",
    "16. Containerize the FastAPI application using Docker and pushed it to Docker Hub.\n",
    "17. Deployed the containerized API to render.\n",
    "18. Created a Streamlit app to interact with the deployed model for real-time classification.\n"
   ]
  },
  {
   "cell_type": "markdown",
   "metadata": {},
   "source": [
    "IMPORTING THE REQIURED LIBRARIES "
   ]
  },
  {
   "cell_type": "code",
   "execution_count": 1,
   "metadata": {},
   "outputs": [],
   "source": [
    "import pandas as pd\n",
    "import sqlite3\n",
    "from sklearn.model_selection import train_test_split, cross_val_score, StratifiedKFold\n",
    "from sklearn.preprocessing import StandardScaler, MinMaxScaler, OneHotEncoder, FunctionTransformer\n",
    "from sklearn.model_selection import StratifiedKFold, cross_val_score, GridSearchCV\n",
    "from sklearn.compose import ColumnTransformer\n",
    "from sklearn.pipeline import Pipeline\n",
    "from sklearn.linear_model import LogisticRegression, RidgeClassifier\n",
    "from sklearn.ensemble import RandomForestClassifier\n",
    "from xgboost import XGBClassifier\n",
    "from sklearn.model_selection import StratifiedKFold, cross_val_score,GridSearchCV\n",
    "from sklearn.metrics import f1_score, confusion_matrix\n",
    "import mlflow\n",
    "import mlflow.sklearn\n",
    "import os\n",
    "import matplotlib.pyplot as plt\n",
    "from scipy.stats import zscore\n",
    "import numpy as np\n",
    "from sklearn.preprocessing import PolynomialFeatures\n",
    "from sklearn.base import BaseEstimator, TransformerMixin\n",
    "from sklearn.feature_selection import VarianceThreshold,SelectKBest,mutual_info_classif\n",
    "from sklearn.ensemble import RandomForestClassifier\n",
    "from sklearn.decomposition import PCA\n",
    "from sklearn.pipeline import Pipeline\n",
    "from sklearn.neighbors import KNeighborsClassifier\n",
    "from sklearn.svm import SVC\n",
    "\n"
   ]
  },
  {
   "cell_type": "markdown",
   "metadata": {},
   "source": [
    "READING THE CSV FILE INTO A DATAFRAME"
   ]
  },
  {
   "cell_type": "code",
   "execution_count": 2,
   "metadata": {},
   "outputs": [
    {
     "name": "stdout",
     "output_type": "stream",
     "text": [
      "Total rows in CSV file: 2109\n",
      "\n",
      "First 5 rows from CSV:\n",
      "    loc  v(g)  ev(g)  iv(g)      n       v     l      d      i         e  ...  \\\n",
      "0   1.1   1.4    1.4    1.4    1.3    1.30  1.30   1.30   1.30      1.30  ...   \n",
      "1   1.0   1.0    1.0    1.0    1.0    1.00  1.00   1.00   1.00      1.00  ...   \n",
      "2  83.0  11.0    1.0   11.0  171.0  927.89  0.04  23.04  40.27  21378.61  ...   \n",
      "3  46.0   8.0    6.0    8.0  141.0  769.78  0.07  14.86  51.81  11436.73  ...   \n",
      "4  25.0   3.0    1.0    3.0   58.0  254.75  0.11   9.35  27.25   2381.95  ...   \n",
      "\n",
      "   lOCode  lOComment  lOBlank  locCodeAndComment  uniq_Op  uniq_Opnd  \\\n",
      "0     2.0          2        2                  2      1.2        1.2   \n",
      "1     1.0          1        1                  1      1.0        1.0   \n",
      "2    65.0         10        6                  0     18.0       25.0   \n",
      "3    37.0          2        5                  0     16.0       28.0   \n",
      "4    21.0          0        2                  0     11.0       10.0   \n",
      "\n",
      "   total_Op  total_Opnd  branchCount  defects  \n",
      "0       1.2         1.2          1.4    False  \n",
      "1       1.0         1.0          1.0     True  \n",
      "2     107.0        64.0         21.0     True  \n",
      "3      89.0        52.0         15.0     True  \n",
      "4      41.0        17.0          5.0     True  \n",
      "\n",
      "[5 rows x 22 columns]\n"
     ]
    }
   ],
   "source": [
    "csv_file = 'openml_1067_dataset.csv'  \n",
    "df_csv = pd.read_csv(csv_file)\n",
    "print(\"Total rows in CSV file:\", df_csv.shape[0])\n",
    "print(\"\\nFirst 5 rows from CSV:\")\n",
    "print(df_csv.head())\n"
   ]
  },
  {
   "cell_type": "markdown",
   "metadata": {},
   "source": [
    "Connect to the database and insert CSV data\n"
   ]
  },
  {
   "cell_type": "code",
   "execution_count": 3,
   "metadata": {},
   "outputs": [],
   "source": [
    "conn = sqlite3.connect('normalized_project.db')\n",
    "cursor = conn.cursor()"
   ]
  },
  {
   "cell_type": "code",
   "execution_count": 4,
   "metadata": {},
   "outputs": [
    {
     "data": {
      "text/plain": [
       "<sqlite3.Cursor at 0x1d8fbeae810>"
      ]
     },
     "execution_count": 4,
     "metadata": {},
     "output_type": "execute_result"
    }
   ],
   "source": [
    "cursor.execute('DROP TABLE IF EXISTS MainData')"
   ]
  },
  {
   "cell_type": "code",
   "execution_count": 5,
   "metadata": {},
   "outputs": [],
   "source": [
    "# Creating the table based on CSV columns\n",
    "df_csv_columns = ', '.join([f'\"{col}\" REAL' for col in df_csv.columns if col != 'defects'])\n",
    "create_table_query = f'''\n",
    "CREATE TABLE MainData (\n",
    "    id INTEGER PRIMARY KEY AUTOINCREMENT,\n",
    "    {df_csv_columns},\n",
    "    \"defects\" TEXT\n",
    ")\n",
    "'''"
   ]
  },
  {
   "cell_type": "code",
   "execution_count": 6,
   "metadata": {},
   "outputs": [
    {
     "data": {
      "text/plain": [
       "<sqlite3.Cursor at 0x1d8fbeae810>"
      ]
     },
     "execution_count": 6,
     "metadata": {},
     "output_type": "execute_result"
    }
   ],
   "source": [
    "original_header = df_csv.columns\n",
    "sanitized_header = [col.replace(\"(\", \"_\").replace(\")\", \"_\").replace(\" \", \"_\") for col in original_header]\n",
    "\n",
    "# Drop table if it exists to avoid duplication\n",
    "cursor.execute('DROP TABLE IF EXISTS MainData')\n",
    "\n",
    "# Create the table using sanitized column headers\n",
    "create_table_query = f'''\n",
    "CREATE TABLE MainData (\n",
    "    id INTEGER PRIMARY KEY AUTOINCREMENT,\n",
    "    {', '.join([f'\"{col}\" REAL' for col in sanitized_header[:-1]])},  -- All features except the target\n",
    "    \"defects\" TEXT                                      -- Target column\n",
    ")\n",
    "'''\n",
    "cursor.execute(create_table_query)"
   ]
  },
  {
   "cell_type": "code",
   "execution_count": 7,
   "metadata": {},
   "outputs": [
    {
     "name": "stdout",
     "output_type": "stream",
     "text": [
      "\n",
      "Data successfully inserted into the database.\n"
     ]
    }
   ],
   "source": [
    "# Inserting data into the database\n",
    "df_csv.to_sql('MainData', conn, if_exists='replace', index=False)\n",
    "print(\"\\nData successfully inserted into the database.\")\n"
   ]
  },
  {
   "cell_type": "code",
   "execution_count": 8,
   "metadata": {},
   "outputs": [],
   "source": [
    "# Fetching the data using SQL join into DataFrame\n",
    "query = \"SELECT * FROM MainData\"\n",
    "df = pd.read_sql_query(query, conn)\n",
    "\n"
   ]
  },
  {
   "cell_type": "code",
   "execution_count": 9,
   "metadata": {},
   "outputs": [],
   "source": [
    "# Fetch the data using SQL join into DataFrame and ensuring 'id' col in included\n",
    "query = \"SELECT rowid AS id, * FROM MainData\"  \n",
    "df = pd.read_sql_query(query, conn)\n",
    "conn.close()"
   ]
  },
  {
   "cell_type": "code",
   "execution_count": 10,
   "metadata": {},
   "outputs": [
    {
     "name": "stdout",
     "output_type": "stream",
     "text": [
      "\n",
      "Total rows in DataFrame after SQL Join: 2109\n",
      "\n",
      "First 5 rows:\n",
      "   id   loc  v(g)  ev(g)  iv(g)      n       v     l      d      i  ...  \\\n",
      "0   1   1.1   1.4    1.4    1.4    1.3    1.30  1.30   1.30   1.30  ...   \n",
      "1   2   1.0   1.0    1.0    1.0    1.0    1.00  1.00   1.00   1.00  ...   \n",
      "2   3  83.0  11.0    1.0   11.0  171.0  927.89  0.04  23.04  40.27  ...   \n",
      "3   4  46.0   8.0    6.0    8.0  141.0  769.78  0.07  14.86  51.81  ...   \n",
      "4   5  25.0   3.0    1.0    3.0   58.0  254.75  0.11   9.35  27.25  ...   \n",
      "\n",
      "   lOCode  lOComment  lOBlank  locCodeAndComment  uniq_Op  uniq_Opnd  \\\n",
      "0     2.0          2        2                  2      1.2        1.2   \n",
      "1     1.0          1        1                  1      1.0        1.0   \n",
      "2    65.0         10        6                  0     18.0       25.0   \n",
      "3    37.0          2        5                  0     16.0       28.0   \n",
      "4    21.0          0        2                  0     11.0       10.0   \n",
      "\n",
      "   total_Op  total_Opnd  branchCount  defects  \n",
      "0       1.2         1.2          1.4        0  \n",
      "1       1.0         1.0          1.0        1  \n",
      "2     107.0        64.0         21.0        1  \n",
      "3      89.0        52.0         15.0        1  \n",
      "4      41.0        17.0          5.0        1  \n",
      "\n",
      "[5 rows x 23 columns]\n"
     ]
    }
   ],
   "source": [
    "print(\"\\nTotal rows in DataFrame after SQL Join:\", df.shape[0])\n",
    "print(\"\\nFirst 5 rows:\")\n",
    "print(df.head())\n"
   ]
  },
  {
   "cell_type": "markdown",
   "metadata": {},
   "source": [
    "Checking for missing values and target distribution\n"
   ]
  },
  {
   "cell_type": "code",
   "execution_count": 11,
   "metadata": {},
   "outputs": [
    {
     "name": "stdout",
     "output_type": "stream",
     "text": [
      "\n",
      "Missing Values:\n",
      "id                   0\n",
      "loc                  0\n",
      "v(g)                 0\n",
      "ev(g)                0\n",
      "iv(g)                0\n",
      "n                    0\n",
      "v                    0\n",
      "l                    0\n",
      "d                    0\n",
      "i                    0\n",
      "e                    0\n",
      "b                    0\n",
      "t                    0\n",
      "lOCode               0\n",
      "lOComment            0\n",
      "lOBlank              0\n",
      "locCodeAndComment    0\n",
      "uniq_Op              0\n",
      "uniq_Opnd            0\n",
      "total_Op             0\n",
      "total_Opnd           0\n",
      "branchCount          0\n",
      "defects              0\n",
      "dtype: int64\n"
     ]
    }
   ],
   "source": [
    "\n",
    "print(\"\\nMissing Values:\")\n",
    "print(df.isnull().sum())\n"
   ]
  },
  {
   "cell_type": "code",
   "execution_count": 12,
   "metadata": {},
   "outputs": [
    {
     "name": "stdout",
     "output_type": "stream",
     "text": [
      "\n",
      "Target Value Distribution:\n",
      "0    1783\n",
      "1     326\n",
      "Name: defects, dtype: int64\n"
     ]
    }
   ],
   "source": [
    "print(\"\\nTarget Value Distribution:\")\n",
    "print(df['defects'].value_counts())"
   ]
  },
  {
   "cell_type": "code",
   "execution_count": 13,
   "metadata": {},
   "outputs": [
    {
     "data": {
      "image/png": "[encoded data removed]",
      "text/plain": [
       "<Figure size 432x288 with 1 Axes>"
      ]
     },
     "metadata": {
      "needs_background": "light"
     },
     "output_type": "display_data"
    }
   ],
   "source": [
    "df['defects'].value_counts().plot(kind='bar', title='Target Distribution')\n",
    "plt.xlabel('Defects')\n",
    "plt.ylabel('Count')\n",
    "plt.show()"
   ]
  },
  {
   "cell_type": "markdown",
   "metadata": {},
   "source": [
    "Performing Train/Test Split with Stratification\n"
   ]
  },
  {
   "cell_type": "code",
   "execution_count": 14,
   "metadata": {},
   "outputs": [],
   "source": [
    "X = df.drop(['id', 'defects'], axis=1)\n",
    "y = df['defects']"
   ]
  },
  {
   "cell_type": "code",
   "execution_count": 15,
   "metadata": {},
   "outputs": [],
   "source": [
    "# Perform stratified train/test split\n",
    "X_train, X_test, y_train, y_test = train_test_split(\n",
    "    X, y, test_size=0.2, random_state=42, stratify=y\n",
    ")"
   ]
  },
  {
   "cell_type": "code",
   "execution_count": 16,
   "metadata": {},
   "outputs": [
    {
     "name": "stdout",
     "output_type": "stream",
     "text": [
      "\n",
      "Train Set Size: 1687\n",
      "Test Set Size: 422\n",
      "\n",
      "Train Target Distribution:\n",
      "0    0.845287\n",
      "1    0.154713\n",
      "Name: defects, dtype: float64\n",
      "\n",
      "Test Target Distribution:\n",
      "0    0.845972\n",
      "1    0.154028\n",
      "Name: defects, dtype: float64\n",
      "\n",
      "Train and Test sets have been saved as CSV files.\n"
     ]
    }
   ],
   "source": [
    "print(\"\\nTrain Set Size:\", X_train.shape[0])\n",
    "print(\"Test Set Size:\", X_test.shape[0])\n",
    "\n",
    "print(\"\\nTrain Target Distribution:\")\n",
    "print(y_train.value_counts(normalize=True))\n",
    "\n",
    "print(\"\\nTest Target Distribution:\")\n",
    "print(y_test.value_counts(normalize=True))\n",
    "\n",
    "X_train.to_csv('X_train.csv', index=False)\n",
    "X_test.to_csv('X_test.csv', index=False)\n",
    "y_train.to_csv('y_train.csv', index=False)\n",
    "y_test.to_csv('y_test.csv', index=False)\n",
    "\n",
    "print(\"\\nTrain and Test sets have been saved as CSV files.\")"
   ]
  },
  {
   "cell_type": "code",
   "execution_count": 17,
   "metadata": {},
   "outputs": [
    {
     "name": "stdout",
     "output_type": "stream",
     "text": [
      "\n",
      "Correlation Matrix:\n",
      "                         id       loc      v(g)     ev(g)     iv(g)         n  \\\n",
      "id                 1.000000 -0.263497 -0.221279 -0.145884 -0.224694 -0.272575   \n",
      "loc               -0.263497  1.000000  0.902619  0.718833  0.895167  0.948510   \n",
      "v(g)              -0.221279  0.902619  1.000000  0.819965  0.965689  0.922511   \n",
      "ev(g)             -0.145884  0.718833  0.819965  1.000000  0.775740  0.746253   \n",
      "iv(g)             -0.224694  0.895167  0.965689  0.775740  1.000000  0.893768   \n",
      "n                 -0.272575  0.948510  0.922511  0.746253  0.893768  1.000000   \n",
      "v                 -0.254446  0.938516  0.915556  0.753569  0.884920  0.994956   \n",
      "l                  0.211925 -0.432179 -0.379873 -0.260710 -0.369299 -0.412032   \n",
      "d                 -0.288405  0.846844  0.868341  0.698391  0.815358  0.891586   \n",
      "i                 -0.297805  0.802832  0.673304  0.511383  0.674493  0.826783   \n",
      "e                 -0.188247  0.821338  0.862413  0.738864  0.807287  0.908211   \n",
      "b                 -0.261477  0.918359  0.896867  0.738853  0.866989  0.973711   \n",
      "t                 -0.188249  0.821337  0.862413  0.738864  0.807287  0.908211   \n",
      "lOCode            -0.264218  0.985491  0.918520  0.723255  0.916920  0.961050   \n",
      "lOComment         -0.133216  0.686718  0.517073  0.411757  0.519622  0.547563   \n",
      "lOBlank           -0.237643  0.824427  0.731436  0.624973  0.689669  0.777579   \n",
      "locCodeAndComment  0.031470  0.365868  0.328405  0.321791  0.304549  0.347560   \n",
      "uniq_Op           -0.277415  0.783490  0.768621  0.616077  0.729753  0.809496   \n",
      "uniq_Opnd         -0.299992  0.915715  0.827906  0.666726  0.803406  0.945880   \n",
      "total_Op          -0.270335  0.946597  0.925176  0.747825  0.901752  0.998146   \n",
      "total_Opnd        -0.274115  0.944167  0.910989  0.737880  0.873885  0.995162   \n",
      "branchCount       -0.220893  0.901108  0.998608  0.819791  0.964733  0.923869   \n",
      "defects           -0.625434  0.348405  0.295570  0.205159  0.295694  0.355101   \n",
      "\n",
      "                          v         l         d         i  ...    lOCode  \\\n",
      "id                -0.254446  0.211925 -0.288405 -0.297805  ... -0.264218   \n",
      "loc                0.938516 -0.432179  0.846844  0.802832  ...  0.985491   \n",
      "v(g)               0.915556 -0.379873  0.868341  0.673304  ...  0.918520   \n",
      "ev(g)              0.753569 -0.260710  0.698391  0.511383  ...  0.723255   \n",
      "iv(g)              0.884920 -0.369299  0.815358  0.674493  ...  0.916920   \n",
      "n                  0.994956 -0.412032  0.891586  0.826783  ...  0.961050   \n",
      "v                  1.000000 -0.375790  0.860161  0.799857  ...  0.949684   \n",
      "l                 -0.375790  1.000000 -0.498601 -0.402005  ... -0.421180   \n",
      "d                  0.860161 -0.498601  1.000000  0.679523  ...  0.858635   \n",
      "i                  0.799857 -0.402005  0.679523  1.000000  ...  0.814257   \n",
      "e                  0.934930 -0.256627  0.778999  0.592246  ...  0.833695   \n",
      "b                  0.978958 -0.356028  0.841017  0.780946  ...  0.929966   \n",
      "t                  0.934930 -0.256624  0.778998  0.592245  ...  0.833694   \n",
      "lOCode             0.949684 -0.421180  0.858635  0.814257  ...  1.000000   \n",
      "lOComment          0.545146 -0.219561  0.470282  0.462036  ...  0.614157   \n",
      "lOBlank            0.772102 -0.341709  0.732524  0.625273  ...  0.770039   \n",
      "locCodeAndComment  0.359956 -0.128403  0.296738  0.254271  ...  0.342613   \n",
      "uniq_Op            0.771159 -0.560968  0.932447  0.716386  ...  0.793977   \n",
      "uniq_Opnd          0.931094 -0.453355  0.844061  0.925089  ...  0.919257   \n",
      "total_Op           0.992046 -0.413997  0.889622  0.824082  ...  0.961187   \n",
      "total_Opnd         0.991866 -0.405559  0.887768  0.824655  ...  0.953304   \n",
      "branchCount        0.917383 -0.379410  0.869659  0.672704  ...  0.916875   \n",
      "defects            0.339539 -0.232877  0.387493  0.342854  ...  0.341529   \n",
      "\n",
      "                   lOComment   lOBlank  locCodeAndComment   uniq_Op  \\\n",
      "id                 -0.133216 -0.237643           0.031470 -0.277415   \n",
      "loc                 0.686718  0.824427           0.365868  0.783490   \n",
      "v(g)                0.517073  0.731436           0.328405  0.768621   \n",
      "ev(g)               0.411757  0.624973           0.321791  0.616077   \n",
      "iv(g)               0.519622  0.689669           0.304549  0.729753   \n",
      "n                   0.547563  0.777579           0.347560  0.809496   \n",
      "v                   0.545146  0.772102           0.359956  0.771159   \n",
      "l                  -0.219561 -0.341709          -0.128403 -0.560968   \n",
      "d                   0.470282  0.732524           0.296738  0.932447   \n",
      "i                   0.462036  0.625273           0.254271  0.716386   \n",
      "e                   0.444171  0.687308           0.365634  0.632034   \n",
      "b                   0.536657  0.758482           0.365819  0.751686   \n",
      "t                   0.444171  0.687308           0.365636  0.632033   \n",
      "lOCode              0.614157  0.770039           0.342613  0.793977   \n",
      "lOComment           1.000000  0.605031           0.292028  0.446653   \n",
      "lOBlank             0.605031  1.000000           0.284477  0.689888   \n",
      "locCodeAndComment   0.292028  0.284477           1.000000  0.281685   \n",
      "uniq_Op             0.446653  0.689888           0.281685  1.000000   \n",
      "uniq_Opnd           0.546855  0.770592           0.315477  0.849227   \n",
      "total_Op            0.544072  0.768440           0.345526  0.809307   \n",
      "total_Opnd          0.548925  0.786256           0.348189  0.803442   \n",
      "branchCount         0.516181  0.729641           0.328975  0.769751   \n",
      "defects             0.232866  0.323620           0.005067  0.385566   \n",
      "\n",
      "                   uniq_Opnd  total_Op  total_Opnd  branchCount   defects  \n",
      "id                 -0.299992 -0.270335   -0.274115    -0.220893 -0.625434  \n",
      "loc                 0.915715  0.946597    0.944167     0.901108  0.348405  \n",
      "v(g)                0.827906  0.925176    0.910989     0.998608  0.295570  \n",
      "ev(g)               0.666726  0.747825    0.737880     0.819791  0.205159  \n",
      "iv(g)               0.803406  0.901752    0.873885     0.964733  0.295694  \n",
      "n                   0.945880  0.998146    0.995162     0.923869  0.355101  \n",
      "v                   0.931094  0.992046    0.991866     0.917383  0.339539  \n",
      "l                  -0.453355 -0.413997   -0.405559    -0.379410 -0.232877  \n",
      "d                   0.844061  0.889622    0.887768     0.869659  0.387493  \n",
      "i                   0.925089  0.824082    0.824655     0.672704  0.342854  \n",
      "e                   0.771366  0.903576    0.908589     0.866195  0.270070  \n",
      "b                   0.910905  0.970887    0.970853     0.898445  0.339028  \n",
      "t                   0.771365  0.903576    0.908589     0.866195  0.270071  \n",
      "lOCode              0.919257  0.961187    0.953304     0.916875  0.341529  \n",
      "lOComment           0.546855  0.544072    0.548925     0.516181  0.232866  \n",
      "lOBlank             0.770592  0.768440    0.786256     0.729641  0.323620  \n",
      "locCodeAndComment   0.315477  0.345526    0.348189     0.328975  0.005067  \n",
      "uniq_Op             0.849227  0.809307    0.803442     0.769751  0.385566  \n",
      "uniq_Opnd           1.000000  0.937207    0.952468     0.829344  0.386714  \n",
      "total_Op            0.937207  1.000000    0.987338     0.926424  0.348785  \n",
      "total_Opnd          0.952468  0.987338    1.000000     0.912512  0.362549  \n",
      "branchCount         0.829344  0.926424    0.912512     1.000000  0.297827  \n",
      "defects             0.386714  0.348785    0.362549     0.297827  1.000000  \n",
      "\n",
      "[23 rows x 23 columns]\n"
     ]
    }
   ],
   "source": [
    "# Generate a correlation matrix\n",
    "print(\"\\nCorrelation Matrix:\")\n",
    "correlation_matrix = df.corr()\n",
    "print(correlation_matrix)"
   ]
  },
  {
   "cell_type": "code",
   "execution_count": 18,
   "metadata": {},
   "outputs": [
    {
     "data": {
      "image/png": "[encoded data removed]",
      "text/plain": [
       "<Figure size 864x720 with 2 Axes>"
      ]
     },
     "metadata": {
      "needs_background": "light"
     },
     "output_type": "display_data"
    }
   ],
   "source": [
    "plt.figure(figsize=(12, 10))\n",
    "plt.title(\"Correlation Matrix\")\n",
    "corr_plot = plt.imshow(correlation_matrix, cmap='coolwarm', interpolation='none')\n",
    "plt.colorbar(corr_plot)\n",
    "plt.xticks(range(len(correlation_matrix.columns)), correlation_matrix.columns, rotation=90)\n",
    "plt.yticks(range(len(correlation_matrix.columns)), correlation_matrix.columns)\n",
    "plt.show()"
   ]
  },
  {
   "cell_type": "markdown",
   "metadata": {},
   "source": [
    "DATA CLEANING"
   ]
  },
  {
   "cell_type": "code",
   "execution_count": 19,
   "metadata": {},
   "outputs": [
    {
     "name": "stdout",
     "output_type": "stream",
     "text": [
      "Removed low-variance columns: []\n"
     ]
    }
   ],
   "source": [
    "#Remove low-variance features from training and testing sets\n",
    "\n",
    "low_variance_cols = [col for col in X_train.columns if X_train[col].std() < 0.01]\n",
    "X_train.drop(columns=low_variance_cols, inplace=True)\n",
    "X_test.drop(columns=low_variance_cols, inplace=True)\n",
    "print(f\"Removed low-variance columns: {low_variance_cols}\")"
   ]
  },
  {
   "cell_type": "code",
   "execution_count": 20,
   "metadata": {},
   "outputs": [
    {
     "name": "stdout",
     "output_type": "stream",
     "text": [
      "Removed highly correlated features: {'n', 'e', 'uniq_Op', 'd', 'total_Op', 'v(g)', 'v', 'iv(g)', 't', 'uniq_Opnd', 'total_Opnd', 'b', 'lOCode', 'branchCount'}\n"
     ]
    }
   ],
   "source": [
    "#Remove highly correlated features from training and testing sets\n",
    "\n",
    "correlation_matrix = X_train.corr()\n",
    "correlated_features = set()\n",
    "for i in range(len(correlation_matrix.columns)):\n",
    "    for j in range(i):\n",
    "        if abs(correlation_matrix.iloc[i, j]) > 0.85:\n",
    "            colname = correlation_matrix.columns[i]\n",
    "            correlated_features.add(colname)\n",
    "X_train.drop(columns=correlated_features, inplace=True)\n",
    "X_test.drop(columns=correlated_features, inplace=True)\n",
    "print(f\"Removed highly correlated features: {correlated_features}\")"
   ]
  },
  {
   "cell_type": "code",
   "execution_count": 21,
   "metadata": {},
   "outputs": [
    {
     "name": "stdout",
     "output_type": "stream",
     "text": [
      "Outliers handled in training and testing sets.\n"
     ]
    }
   ],
   "source": [
    "#Handle outliers in training and testing sets\n",
    "\n",
    "z_scores = X_train.select_dtypes(include=['float64', 'int64']).apply(zscore)\n",
    "X_train = X_train[(z_scores < 3).all(axis=1)]\n",
    "y_train = y_train[X_train.index]  # Ensure alignment of target labels\n",
    "\n",
    "z_scores_test = X_test.select_dtypes(include=['float64', 'int64']).apply(zscore)\n",
    "X_test = X_test[(z_scores_test < 3).all(axis=1)]\n",
    "y_test = y_test[X_test.index]\n",
    "print(\"Outliers handled in training and testing sets.\")\n"
   ]
  },
  {
   "cell_type": "code",
   "execution_count": 22,
   "metadata": {},
   "outputs": [
    {
     "name": "stdout",
     "output_type": "stream",
     "text": [
      "Numeric features normalized in training and testing sets.\n"
     ]
    }
   ],
   "source": [
    "# Normalize numeric features in training and testing sets\n",
    "scaler = MinMaxScaler()\n",
    "numeric_columns = X_train.select_dtypes(include=['float64', 'int64']).columns\n",
    "X_train[numeric_columns] = scaler.fit_transform(X_train[numeric_columns])\n",
    "X_test[numeric_columns] = scaler.transform(X_test[numeric_columns])\n",
    "print(\"Numeric features normalized in training and testing sets.\")"
   ]
  },
  {
   "cell_type": "code",
   "execution_count": 23,
   "metadata": {},
   "outputs": [
    {
     "name": "stdout",
     "output_type": "stream",
     "text": [
      "\n",
      "Train Set Size: 1565\n",
      "Test Set Size: 385\n"
     ]
    }
   ],
   "source": [
    "print(\"\\nTrain Set Size:\", X_train.shape[0])\n",
    "print(\"Test Set Size:\", X_test.shape[0])"
   ]
  },
  {
   "cell_type": "code",
   "execution_count": 24,
   "metadata": {},
   "outputs": [
    {
     "ename": "ModuleNotFoundError",
     "evalue": "No module named 'dagshub'",
     "output_type": "error",
     "traceback": [
      "\u001b[1;31m---------------------------------------------------------------------------\u001b[0m",
      "\u001b[1;31mModuleNotFoundError\u001b[0m                       Traceback (most recent call last)",
      "Input \u001b[1;32mIn [24]\u001b[0m, in \u001b[0;36m<cell line: 1>\u001b[1;34m()\u001b[0m\n\u001b[1;32m----> 1\u001b[0m \u001b[38;5;28;01mimport\u001b[39;00m \u001b[38;5;21;01mdagshub\u001b[39;00m\n\u001b[0;32m      2\u001b[0m dagshub\u001b[38;5;241m.\u001b[39minit(repo_owner\u001b[38;5;241m=\u001b[39m\u001b[38;5;124m'\u001b[39m\u001b[38;5;124matluribhumika08\u001b[39m\u001b[38;5;124m'\u001b[39m,\n\u001b[0;32m      3\u001b[0m              repo_name\u001b[38;5;241m=\u001b[39m\u001b[38;5;124m'\u001b[39m\u001b[38;5;124mCode_Defect_Detection_Project\u001b[39m\u001b[38;5;124m'\u001b[39m,\n\u001b[0;32m      4\u001b[0m              mlflow\u001b[38;5;241m=\u001b[39m\u001b[38;5;28;01mTrue\u001b[39;00m)\n\u001b[0;32m      6\u001b[0m \u001b[38;5;28;01mimport\u001b[39;00m \u001b[38;5;21;01mmlflow\u001b[39;00m\n",
      "\u001b[1;31mModuleNotFoundError\u001b[0m: No module named 'dagshub'"
     ]
    }
   ],
   "source": [
    "import dagshub\n",
    "dagshub.init(repo_owner='atluribhumika08',\n",
    "             repo_name='Code_Defect_Detection_Project',\n",
    "             mlflow=True)\n",
    "\n",
    "import mlflow\n",
    "with mlflow.start_run():\n",
    "  mlflow.log_param('parameter name', 'value')\n",
    "  mlflow.log_metric('metric name', 1)"
   ]
  },
  {
   "cell_type": "code",
   "execution_count": 87,
   "metadata": {},
   "outputs": [],
   "source": [
    "# Define preprocessing steps\n",
    "numeric_features = X_train.select_dtypes(include=['float64', 'int64']).columns\n",
    "categorical_features = X_train.select_dtypes(include=['object', 'category']).columns\n",
    "\n",
    "preprocessor = ColumnTransformer(\n",
    "    transformers=[\n",
    "        ('num', Pipeline(steps=[\n",
    "            ('scaler', StandardScaler()),\n",
    "            ('minmax', MinMaxScaler()),\n",
    "            ('log', FunctionTransformer(np.log1p, validate=True))\n",
    "        ]), numeric_features),\n",
    "        ('cat', OneHotEncoder(handle_unknown='ignore'), categorical_features)\n",
    "    ]\n",
    ")\n"
   ]
  },
  {
   "cell_type": "code",
   "execution_count": 89,
   "metadata": {},
   "outputs": [],
   "source": [
    "# Define Logistic Regression model\n",
    "logistic_model = LogisticRegression(max_iter=1000, random_state=42)"
   ]
  },
  {
   "cell_type": "code",
   "execution_count": 91,
   "metadata": {},
   "outputs": [],
   "source": [
    "# Create pipeline\n",
    "pipeline = Pipeline(steps=[\n",
    "    ('preprocessor', preprocessor),\n",
    "    ('classifier', logistic_model)\n",
    "])"
   ]
  },
  {
   "cell_type": "code",
   "execution_count": 93,
   "metadata": {},
   "outputs": [],
   "source": [
    "# Define parameter grid for hyperparameter tuning\n",
    "param_grid = {\n",
    "    'classifier__C': [0.01, 0.1, 1, 10],\n",
    "    'classifier__solver': ['lbfgs', 'liblinear']\n",
    "}"
   ]
  },
  {
   "cell_type": "code",
   "execution_count": 95,
   "metadata": {},
   "outputs": [
    {
     "name": "stdout",
     "output_type": "stream",
     "text": [
      "Fitting 3 folds for each of 8 candidates, totalling 24 fits\n"
     ]
    },
    {
     "data": {
      "text/html": [
       "<style>#sk-container-id-2 {\n",
       "  /* Definition of color scheme common for light and dark mode */\n",
       "  --sklearn-color-text: black;\n",
       "  --sklearn-color-line: gray;\n",
       "  /* Definition of color scheme for unfitted estimators */\n",
       "  --sklearn-color-unfitted-level-0: #fff5e6;\n",
       "  --sklearn-color-unfitted-level-1: #f6e4d2;\n",
       "  --sklearn-color-unfitted-level-2: #ffe0b3;\n",
       "  --sklearn-color-unfitted-level-3: chocolate;\n",
       "  /* Definition of color scheme for fitted estimators */\n",
       "  --sklearn-color-fitted-level-0: #f0f8ff;\n",
       "  --sklearn-color-fitted-level-1: #d4ebff;\n",
       "  --sklearn-color-fitted-level-2: #b3dbfd;\n",
       "  --sklearn-color-fitted-level-3: cornflowerblue;\n",
       "\n",
       "  /* Specific color for light theme */\n",
       "  --sklearn-color-text-on-default-background: var(--sg-text-color, var(--theme-code-foreground, var(--jp-content-font-color1, black)));\n",
       "  --sklearn-color-background: var(--sg-background-color, var(--theme-background, var(--jp-layout-color0, white)));\n",
       "  --sklearn-color-border-box: var(--sg-text-color, var(--theme-code-foreground, var(--jp-content-font-color1, black)));\n",
       "  --sklearn-color-icon: #696969;\n",
       "\n",
       "  @media (prefers-color-scheme: dark) {\n",
       "    /* Redefinition of color scheme for dark theme */\n",
       "    --sklearn-color-text-on-default-background: var(--sg-text-color, var(--theme-code-foreground, var(--jp-content-font-color1, white)));\n",
       "    --sklearn-color-background: var(--sg-background-color, var(--theme-background, var(--jp-layout-color0, #111)));\n",
       "    --sklearn-color-border-box: var(--sg-text-color, var(--theme-code-foreground, var(--jp-content-font-color1, white)));\n",
       "    --sklearn-color-icon: #878787;\n",
       "  }\n",
       "}\n",
       "\n",
       "#sk-container-id-2 {\n",
       "  color: var(--sklearn-color-text);\n",
       "}\n",
       "\n",
       "#sk-container-id-2 pre {\n",
       "  padding: 0;\n",
       "}\n",
       "\n",
       "#sk-container-id-2 input.sk-hidden--visually {\n",
       "  border: 0;\n",
       "  clip: rect(1px 1px 1px 1px);\n",
       "  clip: rect(1px, 1px, 1px, 1px);\n",
       "  height: 1px;\n",
       "  margin: -1px;\n",
       "  overflow: hidden;\n",
       "  padding: 0;\n",
       "  position: absolute;\n",
       "  width: 1px;\n",
       "}\n",
       "\n",
       "#sk-container-id-2 div.sk-dashed-wrapped {\n",
       "  border: 1px dashed var(--sklearn-color-line);\n",
       "  margin: 0 0.4em 0.5em 0.4em;\n",
       "  box-sizing: border-box;\n",
       "  padding-bottom: 0.4em;\n",
       "  background-color: var(--sklearn-color-background);\n",
       "}\n",
       "\n",
       "#sk-container-id-2 div.sk-container {\n",
       "  /* jupyter's `normalize.less` sets `[hidden] { display: none; }`\n",
       "     but bootstrap.min.css set `[hidden] { display: none !important; }`\n",
       "     so we also need the `!important` here to be able to override the\n",
       "     default hidden behavior on the sphinx rendered scikit-learn.org.\n",
       "     See: https://github.com/scikit-learn/scikit-learn/issues/21755 */\n",
       "  display: inline-block !important;\n",
       "  position: relative;\n",
       "}\n",
       "\n",
       "#sk-container-id-2 div.sk-text-repr-fallback {\n",
       "  display: none;\n",
       "}\n",
       "\n",
       "div.sk-parallel-item,\n",
       "div.sk-serial,\n",
       "div.sk-item {\n",
       "  /* draw centered vertical line to link estimators */\n",
       "  background-image: linear-gradient(var(--sklearn-color-text-on-default-background), var(--sklearn-color-text-on-default-background));\n",
       "  background-size: 2px 100%;\n",
       "  background-repeat: no-repeat;\n",
       "  background-position: center center;\n",
       "}\n",
       "\n",
       "/* Parallel-specific style estimator block */\n",
       "\n",
       "#sk-container-id-2 div.sk-parallel-item::after {\n",
       "  content: \"\";\n",
       "  width: 100%;\n",
       "  border-bottom: 2px solid var(--sklearn-color-text-on-default-background);\n",
       "  flex-grow: 1;\n",
       "}\n",
       "\n",
       "#sk-container-id-2 div.sk-parallel {\n",
       "  display: flex;\n",
       "  align-items: stretch;\n",
       "  justify-content: center;\n",
       "  background-color: var(--sklearn-color-background);\n",
       "  position: relative;\n",
       "}\n",
       "\n",
       "#sk-container-id-2 div.sk-parallel-item {\n",
       "  display: flex;\n",
       "  flex-direction: column;\n",
       "}\n",
       "\n",
       "#sk-container-id-2 div.sk-parallel-item:first-child::after {\n",
       "  align-self: flex-end;\n",
       "  width: 50%;\n",
       "}\n",
       "\n",
       "#sk-container-id-2 div.sk-parallel-item:last-child::after {\n",
       "  align-self: flex-start;\n",
       "  width: 50%;\n",
       "}\n",
       "\n",
       "#sk-container-id-2 div.sk-parallel-item:only-child::after {\n",
       "  width: 0;\n",
       "}\n",
       "\n",
       "/* Serial-specific style estimator block */\n",
       "\n",
       "#sk-container-id-2 div.sk-serial {\n",
       "  display: flex;\n",
       "  flex-direction: column;\n",
       "  align-items: center;\n",
       "  background-color: var(--sklearn-color-background);\n",
       "  padding-right: 1em;\n",
       "  padding-left: 1em;\n",
       "}\n",
       "\n",
       "\n",
       "/* Toggleable style: style used for estimator/Pipeline/ColumnTransformer box that is\n",
       "clickable and can be expanded/collapsed.\n",
       "- Pipeline and ColumnTransformer use this feature and define the default style\n",
       "- Estimators will overwrite some part of the style using the `sk-estimator` class\n",
       "*/\n",
       "\n",
       "/* Pipeline and ColumnTransformer style (default) */\n",
       "\n",
       "#sk-container-id-2 div.sk-toggleable {\n",
       "  /* Default theme specific background. It is overwritten whether we have a\n",
       "  specific estimator or a Pipeline/ColumnTransformer */\n",
       "  background-color: var(--sklearn-color-background);\n",
       "}\n",
       "\n",
       "/* Toggleable label */\n",
       "#sk-container-id-2 label.sk-toggleable__label {\n",
       "  cursor: pointer;\n",
       "  display: block;\n",
       "  width: 100%;\n",
       "  margin-bottom: 0;\n",
       "  padding: 0.5em;\n",
       "  box-sizing: border-box;\n",
       "  text-align: center;\n",
       "}\n",
       "\n",
       "#sk-container-id-2 label.sk-toggleable__label-arrow:before {\n",
       "  /* Arrow on the left of the label */\n",
       "  content: \"▸\";\n",
       "  float: left;\n",
       "  margin-right: 0.25em;\n",
       "  color: var(--sklearn-color-icon);\n",
       "}\n",
       "\n",
       "#sk-container-id-2 label.sk-toggleable__label-arrow:hover:before {\n",
       "  color: var(--sklearn-color-text);\n",
       "}\n",
       "\n",
       "/* Toggleable content - dropdown */\n",
       "\n",
       "#sk-container-id-2 div.sk-toggleable__content {\n",
       "  max-height: 0;\n",
       "  max-width: 0;\n",
       "  overflow: hidden;\n",
       "  text-align: left;\n",
       "  /* unfitted */\n",
       "  background-color: var(--sklearn-color-unfitted-level-0);\n",
       "}\n",
       "\n",
       "#sk-container-id-2 div.sk-toggleable__content.fitted {\n",
       "  /* fitted */\n",
       "  background-color: var(--sklearn-color-fitted-level-0);\n",
       "}\n",
       "\n",
       "#sk-container-id-2 div.sk-toggleable__content pre {\n",
       "  margin: 0.2em;\n",
       "  border-radius: 0.25em;\n",
       "  color: var(--sklearn-color-text);\n",
       "  /* unfitted */\n",
       "  background-color: var(--sklearn-color-unfitted-level-0);\n",
       "}\n",
       "\n",
       "#sk-container-id-2 div.sk-toggleable__content.fitted pre {\n",
       "  /* unfitted */\n",
       "  background-color: var(--sklearn-color-fitted-level-0);\n",
       "}\n",
       "\n",
       "#sk-container-id-2 input.sk-toggleable__control:checked~div.sk-toggleable__content {\n",
       "  /* Expand drop-down */\n",
       "  max-height: 200px;\n",
       "  max-width: 100%;\n",
       "  overflow: auto;\n",
       "}\n",
       "\n",
       "#sk-container-id-2 input.sk-toggleable__control:checked~label.sk-toggleable__label-arrow:before {\n",
       "  content: \"▾\";\n",
       "}\n",
       "\n",
       "/* Pipeline/ColumnTransformer-specific style */\n",
       "\n",
       "#sk-container-id-2 div.sk-label input.sk-toggleable__control:checked~label.sk-toggleable__label {\n",
       "  color: var(--sklearn-color-text);\n",
       "  background-color: var(--sklearn-color-unfitted-level-2);\n",
       "}\n",
       "\n",
       "#sk-container-id-2 div.sk-label.fitted input.sk-toggleable__control:checked~label.sk-toggleable__label {\n",
       "  background-color: var(--sklearn-color-fitted-level-2);\n",
       "}\n",
       "\n",
       "/* Estimator-specific style */\n",
       "\n",
       "/* Colorize estimator box */\n",
       "#sk-container-id-2 div.sk-estimator input.sk-toggleable__control:checked~label.sk-toggleable__label {\n",
       "  /* unfitted */\n",
       "  background-color: var(--sklearn-color-unfitted-level-2);\n",
       "}\n",
       "\n",
       "#sk-container-id-2 div.sk-estimator.fitted input.sk-toggleable__control:checked~label.sk-toggleable__label {\n",
       "  /* fitted */\n",
       "  background-color: var(--sklearn-color-fitted-level-2);\n",
       "}\n",
       "\n",
       "#sk-container-id-2 div.sk-label label.sk-toggleable__label,\n",
       "#sk-container-id-2 div.sk-label label {\n",
       "  /* The background is the default theme color */\n",
       "  color: var(--sklearn-color-text-on-default-background);\n",
       "}\n",
       "\n",
       "/* On hover, darken the color of the background */\n",
       "#sk-container-id-2 div.sk-label:hover label.sk-toggleable__label {\n",
       "  color: var(--sklearn-color-text);\n",
       "  background-color: var(--sklearn-color-unfitted-level-2);\n",
       "}\n",
       "\n",
       "/* Label box, darken color on hover, fitted */\n",
       "#sk-container-id-2 div.sk-label.fitted:hover label.sk-toggleable__label.fitted {\n",
       "  color: var(--sklearn-color-text);\n",
       "  background-color: var(--sklearn-color-fitted-level-2);\n",
       "}\n",
       "\n",
       "/* Estimator label */\n",
       "\n",
       "#sk-container-id-2 div.sk-label label {\n",
       "  font-family: monospace;\n",
       "  font-weight: bold;\n",
       "  display: inline-block;\n",
       "  line-height: 1.2em;\n",
       "}\n",
       "\n",
       "#sk-container-id-2 div.sk-label-container {\n",
       "  text-align: center;\n",
       "}\n",
       "\n",
       "/* Estimator-specific */\n",
       "#sk-container-id-2 div.sk-estimator {\n",
       "  font-family: monospace;\n",
       "  border: 1px dotted var(--sklearn-color-border-box);\n",
       "  border-radius: 0.25em;\n",
       "  box-sizing: border-box;\n",
       "  margin-bottom: 0.5em;\n",
       "  /* unfitted */\n",
       "  background-color: var(--sklearn-color-unfitted-level-0);\n",
       "}\n",
       "\n",
       "#sk-container-id-2 div.sk-estimator.fitted {\n",
       "  /* fitted */\n",
       "  background-color: var(--sklearn-color-fitted-level-0);\n",
       "}\n",
       "\n",
       "/* on hover */\n",
       "#sk-container-id-2 div.sk-estimator:hover {\n",
       "  /* unfitted */\n",
       "  background-color: var(--sklearn-color-unfitted-level-2);\n",
       "}\n",
       "\n",
       "#sk-container-id-2 div.sk-estimator.fitted:hover {\n",
       "  /* fitted */\n",
       "  background-color: var(--sklearn-color-fitted-level-2);\n",
       "}\n",
       "\n",
       "/* Specification for estimator info (e.g. \"i\" and \"?\") */\n",
       "\n",
       "/* Common style for \"i\" and \"?\" */\n",
       "\n",
       ".sk-estimator-doc-link,\n",
       "a:link.sk-estimator-doc-link,\n",
       "a:visited.sk-estimator-doc-link {\n",
       "  float: right;\n",
       "  font-size: smaller;\n",
       "  line-height: 1em;\n",
       "  font-family: monospace;\n",
       "  background-color: var(--sklearn-color-background);\n",
       "  border-radius: 1em;\n",
       "  height: 1em;\n",
       "  width: 1em;\n",
       "  text-decoration: none !important;\n",
       "  margin-left: 1ex;\n",
       "  /* unfitted */\n",
       "  border: var(--sklearn-color-unfitted-level-1) 1pt solid;\n",
       "  color: var(--sklearn-color-unfitted-level-1);\n",
       "}\n",
       "\n",
       ".sk-estimator-doc-link.fitted,\n",
       "a:link.sk-estimator-doc-link.fitted,\n",
       "a:visited.sk-estimator-doc-link.fitted {\n",
       "  /* fitted */\n",
       "  border: var(--sklearn-color-fitted-level-1) 1pt solid;\n",
       "  color: var(--sklearn-color-fitted-level-1);\n",
       "}\n",
       "\n",
       "/* On hover */\n",
       "div.sk-estimator:hover .sk-estimator-doc-link:hover,\n",
       ".sk-estimator-doc-link:hover,\n",
       "div.sk-label-container:hover .sk-estimator-doc-link:hover,\n",
       ".sk-estimator-doc-link:hover {\n",
       "  /* unfitted */\n",
       "  background-color: var(--sklearn-color-unfitted-level-3);\n",
       "  color: var(--sklearn-color-background);\n",
       "  text-decoration: none;\n",
       "}\n",
       "\n",
       "div.sk-estimator.fitted:hover .sk-estimator-doc-link.fitted:hover,\n",
       ".sk-estimator-doc-link.fitted:hover,\n",
       "div.sk-label-container:hover .sk-estimator-doc-link.fitted:hover,\n",
       ".sk-estimator-doc-link.fitted:hover {\n",
       "  /* fitted */\n",
       "  background-color: var(--sklearn-color-fitted-level-3);\n",
       "  color: var(--sklearn-color-background);\n",
       "  text-decoration: none;\n",
       "}\n",
       "\n",
       "/* Span, style for the box shown on hovering the info icon */\n",
       ".sk-estimator-doc-link span {\n",
       "  display: none;\n",
       "  z-index: 9999;\n",
       "  position: relative;\n",
       "  font-weight: normal;\n",
       "  right: .2ex;\n",
       "  padding: .5ex;\n",
       "  margin: .5ex;\n",
       "  width: min-content;\n",
       "  min-width: 20ex;\n",
       "  max-width: 50ex;\n",
       "  color: var(--sklearn-color-text);\n",
       "  box-shadow: 2pt 2pt 4pt #999;\n",
       "  /* unfitted */\n",
       "  background: var(--sklearn-color-unfitted-level-0);\n",
       "  border: .5pt solid var(--sklearn-color-unfitted-level-3);\n",
       "}\n",
       "\n",
       ".sk-estimator-doc-link.fitted span {\n",
       "  /* fitted */\n",
       "  background: var(--sklearn-color-fitted-level-0);\n",
       "  border: var(--sklearn-color-fitted-level-3);\n",
       "}\n",
       "\n",
       ".sk-estimator-doc-link:hover span {\n",
       "  display: block;\n",
       "}\n",
       "\n",
       "/* \"?\"-specific style due to the `<a>` HTML tag */\n",
       "\n",
       "#sk-container-id-2 a.estimator_doc_link {\n",
       "  float: right;\n",
       "  font-size: 1rem;\n",
       "  line-height: 1em;\n",
       "  font-family: monospace;\n",
       "  background-color: var(--sklearn-color-background);\n",
       "  border-radius: 1rem;\n",
       "  height: 1rem;\n",
       "  width: 1rem;\n",
       "  text-decoration: none;\n",
       "  /* unfitted */\n",
       "  color: var(--sklearn-color-unfitted-level-1);\n",
       "  border: var(--sklearn-color-unfitted-level-1) 1pt solid;\n",
       "}\n",
       "\n",
       "#sk-container-id-2 a.estimator_doc_link.fitted {\n",
       "  /* fitted */\n",
       "  border: var(--sklearn-color-fitted-level-1) 1pt solid;\n",
       "  color: var(--sklearn-color-fitted-level-1);\n",
       "}\n",
       "\n",
       "/* On hover */\n",
       "#sk-container-id-2 a.estimator_doc_link:hover {\n",
       "  /* unfitted */\n",
       "  background-color: var(--sklearn-color-unfitted-level-3);\n",
       "  color: var(--sklearn-color-background);\n",
       "  text-decoration: none;\n",
       "}\n",
       "\n",
       "#sk-container-id-2 a.estimator_doc_link.fitted:hover {\n",
       "  /* fitted */\n",
       "  background-color: var(--sklearn-color-fitted-level-3);\n",
       "}\n",
       "</style><div id=\"sk-container-id-2\" class=\"sk-top-container\"><div class=\"sk-text-repr-fallback\"><pre>GridSearchCV(cv=3,\n",
       "             estimator=Pipeline(steps=[(&#x27;preprocessor&#x27;,\n",
       "                                        ColumnTransformer(transformers=[(&#x27;num&#x27;,\n",
       "                                                                         Pipeline(steps=[(&#x27;scaler&#x27;,\n",
       "                                                                                          StandardScaler()),\n",
       "                                                                                         (&#x27;minmax&#x27;,\n",
       "                                                                                          MinMaxScaler()),\n",
       "                                                                                         (&#x27;log&#x27;,\n",
       "                                                                                          FunctionTransformer(func=&lt;ufunc &#x27;log1p&#x27;&gt;,\n",
       "                                                                                                              validate=True))]),\n",
       "                                                                         Index([&#x27;loc&#x27;, &#x27;ev(g)&#x27;, &#x27;l&#x27;, &#x27;i&#x27;, &#x27;lOComment&#x27;, &#x27;lOBlank&#x27;, &#x27;locCodeAndComment&#x27;], dtype=&#x27;object&#x27;)),\n",
       "                                                                        (&#x27;cat&#x27;,\n",
       "                                                                         OneHotEncoder(handle_unknown=&#x27;ignore&#x27;),\n",
       "                                                                         Index([], dtype=&#x27;object&#x27;))])),\n",
       "                                       (&#x27;classifier&#x27;,\n",
       "                                        LogisticRegression(max_iter=1000,\n",
       "                                                           random_state=42))]),\n",
       "             n_jobs=-1,\n",
       "             param_grid={&#x27;classifier__C&#x27;: [0.01, 0.1, 1, 10],\n",
       "                         &#x27;classifier__solver&#x27;: [&#x27;lbfgs&#x27;, &#x27;liblinear&#x27;]},\n",
       "             scoring=&#x27;f1_weighted&#x27;, verbose=1)</pre><b>In a Jupyter environment, please rerun this cell to show the HTML representation or trust the notebook. <br />On GitHub, the HTML representation is unable to render, please try loading this page with nbviewer.org.</b></div><div class=\"sk-container\" hidden><div class=\"sk-item sk-dashed-wrapped\"><div class=\"sk-label-container\"><div class=\"sk-label fitted sk-toggleable\"><input class=\"sk-toggleable__control sk-hidden--visually\" id=\"sk-estimator-id-11\" type=\"checkbox\" ><label for=\"sk-estimator-id-11\" class=\"sk-toggleable__label fitted sk-toggleable__label-arrow fitted\">&nbsp;&nbsp;GridSearchCV<a class=\"sk-estimator-doc-link fitted\" rel=\"noreferrer\" target=\"_blank\" href=\"https://scikit-learn.org/1.5/modules/generated/sklearn.model_selection.GridSearchCV.html\">?<span>Documentation for GridSearchCV</span></a><span class=\"sk-estimator-doc-link fitted\">i<span>Fitted</span></span></label><div class=\"sk-toggleable__content fitted\"><pre>GridSearchCV(cv=3,\n",
       "             estimator=Pipeline(steps=[(&#x27;preprocessor&#x27;,\n",
       "                                        ColumnTransformer(transformers=[(&#x27;num&#x27;,\n",
       "                                                                         Pipeline(steps=[(&#x27;scaler&#x27;,\n",
       "                                                                                          StandardScaler()),\n",
       "                                                                                         (&#x27;minmax&#x27;,\n",
       "                                                                                          MinMaxScaler()),\n",
       "                                                                                         (&#x27;log&#x27;,\n",
       "                                                                                          FunctionTransformer(func=&lt;ufunc &#x27;log1p&#x27;&gt;,\n",
       "                                                                                                              validate=True))]),\n",
       "                                                                         Index([&#x27;loc&#x27;, &#x27;ev(g)&#x27;, &#x27;l&#x27;, &#x27;i&#x27;, &#x27;lOComment&#x27;, &#x27;lOBlank&#x27;, &#x27;locCodeAndComment&#x27;], dtype=&#x27;object&#x27;)),\n",
       "                                                                        (&#x27;cat&#x27;,\n",
       "                                                                         OneHotEncoder(handle_unknown=&#x27;ignore&#x27;),\n",
       "                                                                         Index([], dtype=&#x27;object&#x27;))])),\n",
       "                                       (&#x27;classifier&#x27;,\n",
       "                                        LogisticRegression(max_iter=1000,\n",
       "                                                           random_state=42))]),\n",
       "             n_jobs=-1,\n",
       "             param_grid={&#x27;classifier__C&#x27;: [0.01, 0.1, 1, 10],\n",
       "                         &#x27;classifier__solver&#x27;: [&#x27;lbfgs&#x27;, &#x27;liblinear&#x27;]},\n",
       "             scoring=&#x27;f1_weighted&#x27;, verbose=1)</pre></div> </div></div><div class=\"sk-parallel\"><div class=\"sk-parallel-item\"><div class=\"sk-item\"><div class=\"sk-label-container\"><div class=\"sk-label fitted sk-toggleable\"><input class=\"sk-toggleable__control sk-hidden--visually\" id=\"sk-estimator-id-12\" type=\"checkbox\" ><label for=\"sk-estimator-id-12\" class=\"sk-toggleable__label fitted sk-toggleable__label-arrow fitted\">best_estimator_: Pipeline</label><div class=\"sk-toggleable__content fitted\"><pre>Pipeline(steps=[(&#x27;preprocessor&#x27;,\n",
       "                 ColumnTransformer(transformers=[(&#x27;num&#x27;,\n",
       "                                                  Pipeline(steps=[(&#x27;scaler&#x27;,\n",
       "                                                                   StandardScaler()),\n",
       "                                                                  (&#x27;minmax&#x27;,\n",
       "                                                                   MinMaxScaler()),\n",
       "                                                                  (&#x27;log&#x27;,\n",
       "                                                                   FunctionTransformer(func=&lt;ufunc &#x27;log1p&#x27;&gt;,\n",
       "                                                                                       validate=True))]),\n",
       "                                                  Index([&#x27;loc&#x27;, &#x27;ev(g)&#x27;, &#x27;l&#x27;, &#x27;i&#x27;, &#x27;lOComment&#x27;, &#x27;lOBlank&#x27;, &#x27;locCodeAndComment&#x27;], dtype=&#x27;object&#x27;)),\n",
       "                                                 (&#x27;cat&#x27;,\n",
       "                                                  OneHotEncoder(handle_unknown=&#x27;ignore&#x27;),\n",
       "                                                  Index([], dtype=&#x27;object&#x27;))])),\n",
       "                (&#x27;classifier&#x27;,\n",
       "                 LogisticRegression(C=10, max_iter=1000, random_state=42))])</pre></div> </div></div><div class=\"sk-serial\"><div class=\"sk-item\"><div class=\"sk-serial\"><div class=\"sk-item sk-dashed-wrapped\"><div class=\"sk-label-container\"><div class=\"sk-label fitted sk-toggleable\"><input class=\"sk-toggleable__control sk-hidden--visually\" id=\"sk-estimator-id-13\" type=\"checkbox\" ><label for=\"sk-estimator-id-13\" class=\"sk-toggleable__label fitted sk-toggleable__label-arrow fitted\">&nbsp;preprocessor: ColumnTransformer<a class=\"sk-estimator-doc-link fitted\" rel=\"noreferrer\" target=\"_blank\" href=\"https://scikit-learn.org/1.5/modules/generated/sklearn.compose.ColumnTransformer.html\">?<span>Documentation for preprocessor: ColumnTransformer</span></a></label><div class=\"sk-toggleable__content fitted\"><pre>ColumnTransformer(transformers=[(&#x27;num&#x27;,\n",
       "                                 Pipeline(steps=[(&#x27;scaler&#x27;, StandardScaler()),\n",
       "                                                 (&#x27;minmax&#x27;, MinMaxScaler()),\n",
       "                                                 (&#x27;log&#x27;,\n",
       "                                                  FunctionTransformer(func=&lt;ufunc &#x27;log1p&#x27;&gt;,\n",
       "                                                                      validate=True))]),\n",
       "                                 Index([&#x27;loc&#x27;, &#x27;ev(g)&#x27;, &#x27;l&#x27;, &#x27;i&#x27;, &#x27;lOComment&#x27;, &#x27;lOBlank&#x27;, &#x27;locCodeAndComment&#x27;], dtype=&#x27;object&#x27;)),\n",
       "                                (&#x27;cat&#x27;, OneHotEncoder(handle_unknown=&#x27;ignore&#x27;),\n",
       "                                 Index([], dtype=&#x27;object&#x27;))])</pre></div> </div></div><div class=\"sk-parallel\"><div class=\"sk-parallel-item\"><div class=\"sk-item\"><div class=\"sk-label-container\"><div class=\"sk-label fitted sk-toggleable\"><input class=\"sk-toggleable__control sk-hidden--visually\" id=\"sk-estimator-id-14\" type=\"checkbox\" ><label for=\"sk-estimator-id-14\" class=\"sk-toggleable__label fitted sk-toggleable__label-arrow fitted\">num</label><div class=\"sk-toggleable__content fitted\"><pre>Index([&#x27;loc&#x27;, &#x27;ev(g)&#x27;, &#x27;l&#x27;, &#x27;i&#x27;, &#x27;lOComment&#x27;, &#x27;lOBlank&#x27;, &#x27;locCodeAndComment&#x27;], dtype=&#x27;object&#x27;)</pre></div> </div></div><div class=\"sk-serial\"><div class=\"sk-item\"><div class=\"sk-serial\"><div class=\"sk-item\"><div class=\"sk-estimator fitted sk-toggleable\"><input class=\"sk-toggleable__control sk-hidden--visually\" id=\"sk-estimator-id-15\" type=\"checkbox\" ><label for=\"sk-estimator-id-15\" class=\"sk-toggleable__label fitted sk-toggleable__label-arrow fitted\">&nbsp;StandardScaler<a class=\"sk-estimator-doc-link fitted\" rel=\"noreferrer\" target=\"_blank\" href=\"https://scikit-learn.org/1.5/modules/generated/sklearn.preprocessing.StandardScaler.html\">?<span>Documentation for StandardScaler</span></a></label><div class=\"sk-toggleable__content fitted\"><pre>StandardScaler()</pre></div> </div></div><div class=\"sk-item\"><div class=\"sk-estimator fitted sk-toggleable\"><input class=\"sk-toggleable__control sk-hidden--visually\" id=\"sk-estimator-id-16\" type=\"checkbox\" ><label for=\"sk-estimator-id-16\" class=\"sk-toggleable__label fitted sk-toggleable__label-arrow fitted\">&nbsp;MinMaxScaler<a class=\"sk-estimator-doc-link fitted\" rel=\"noreferrer\" target=\"_blank\" href=\"https://scikit-learn.org/1.5/modules/generated/sklearn.preprocessing.MinMaxScaler.html\">?<span>Documentation for MinMaxScaler</span></a></label><div class=\"sk-toggleable__content fitted\"><pre>MinMaxScaler()</pre></div> </div></div><div class=\"sk-item\"><div class=\"sk-estimator fitted sk-toggleable\"><input class=\"sk-toggleable__control sk-hidden--visually\" id=\"sk-estimator-id-17\" type=\"checkbox\" ><label for=\"sk-estimator-id-17\" class=\"sk-toggleable__label fitted sk-toggleable__label-arrow fitted\">&nbsp;FunctionTransformer<a class=\"sk-estimator-doc-link fitted\" rel=\"noreferrer\" target=\"_blank\" href=\"https://scikit-learn.org/1.5/modules/generated/sklearn.preprocessing.FunctionTransformer.html\">?<span>Documentation for FunctionTransformer</span></a></label><div class=\"sk-toggleable__content fitted\"><pre>FunctionTransformer(func=&lt;ufunc &#x27;log1p&#x27;&gt;, validate=True)</pre></div> </div></div></div></div></div></div></div><div class=\"sk-parallel-item\"><div class=\"sk-item\"><div class=\"sk-label-container\"><div class=\"sk-label fitted sk-toggleable\"><input class=\"sk-toggleable__control sk-hidden--visually\" id=\"sk-estimator-id-18\" type=\"checkbox\" ><label for=\"sk-estimator-id-18\" class=\"sk-toggleable__label fitted sk-toggleable__label-arrow fitted\">cat</label><div class=\"sk-toggleable__content fitted\"><pre>Index([], dtype=&#x27;object&#x27;)</pre></div> </div></div><div class=\"sk-serial\"><div class=\"sk-item\"><div class=\"sk-estimator fitted sk-toggleable\"><input class=\"sk-toggleable__control sk-hidden--visually\" id=\"sk-estimator-id-19\" type=\"checkbox\" ><label for=\"sk-estimator-id-19\" class=\"sk-toggleable__label fitted sk-toggleable__label-arrow fitted\">&nbsp;OneHotEncoder<a class=\"sk-estimator-doc-link fitted\" rel=\"noreferrer\" target=\"_blank\" href=\"https://scikit-learn.org/1.5/modules/generated/sklearn.preprocessing.OneHotEncoder.html\">?<span>Documentation for OneHotEncoder</span></a></label><div class=\"sk-toggleable__content fitted\"><pre>OneHotEncoder(handle_unknown=&#x27;ignore&#x27;)</pre></div> </div></div></div></div></div></div></div><div class=\"sk-item\"><div class=\"sk-estimator fitted sk-toggleable\"><input class=\"sk-toggleable__control sk-hidden--visually\" id=\"sk-estimator-id-20\" type=\"checkbox\" ><label for=\"sk-estimator-id-20\" class=\"sk-toggleable__label fitted sk-toggleable__label-arrow fitted\">&nbsp;LogisticRegression<a class=\"sk-estimator-doc-link fitted\" rel=\"noreferrer\" target=\"_blank\" href=\"https://scikit-learn.org/1.5/modules/generated/sklearn.linear_model.LogisticRegression.html\">?<span>Documentation for LogisticRegression</span></a></label><div class=\"sk-toggleable__content fitted\"><pre>LogisticRegression(C=10, max_iter=1000, random_state=42)</pre></div> </div></div></div></div></div></div></div></div></div></div></div>"
      ],
      "text/plain": [
       "GridSearchCV(cv=3,\n",
       "             estimator=Pipeline(steps=[('preprocessor',\n",
       "                                        ColumnTransformer(transformers=[('num',\n",
       "                                                                         Pipeline(steps=[('scaler',\n",
       "                                                                                          StandardScaler()),\n",
       "                                                                                         ('minmax',\n",
       "                                                                                          MinMaxScaler()),\n",
       "                                                                                         ('log',\n",
       "                                                                                          FunctionTransformer(func=<ufunc 'log1p'>,\n",
       "                                                                                                              validate=True))]),\n",
       "                                                                         Index(['loc', 'ev(g)', 'l', 'i', 'lOComment', 'lOBlank', 'locCodeAndComment'], dtype='object')),\n",
       "                                                                        ('cat',\n",
       "                                                                         OneHotEncoder(handle_unknown='ignore'),\n",
       "                                                                         Index([], dtype='object'))])),\n",
       "                                       ('classifier',\n",
       "                                        LogisticRegression(max_iter=1000,\n",
       "                                                           random_state=42))]),\n",
       "             n_jobs=-1,\n",
       "             param_grid={'classifier__C': [0.01, 0.1, 1, 10],\n",
       "                         'classifier__solver': ['lbfgs', 'liblinear']},\n",
       "             scoring='f1_weighted', verbose=1)"
      ]
     },
     "execution_count": 95,
     "metadata": {},
     "output_type": "execute_result"
    }
   ],
   "source": [
    "# Perform hyperparameter tuning\n",
    "grid_search = GridSearchCV(pipeline, param_grid, cv=3, scoring='f1_weighted', verbose=1, n_jobs=-1)\n",
    "grid_search.fit(X_train, y_train)"
   ]
  },
  {
   "cell_type": "code",
   "execution_count": 97,
   "metadata": {},
   "outputs": [
    {
     "name": "stdout",
     "output_type": "stream",
     "text": [
      "Best Parameters: {'classifier__C': 10, 'classifier__solver': 'lbfgs'}\n"
     ]
    }
   ],
   "source": [
    "# Best model after hyperparameter tuning\n",
    "best_model = grid_search.best_estimator_\n",
    "print(\"Best Parameters:\", grid_search.best_params_)"
   ]
  },
  {
   "cell_type": "code",
   "execution_count": 99,
   "metadata": {},
   "outputs": [
    {
     "name": "stdout",
     "output_type": "stream",
     "text": [
      "CV F1-Score (mean): 0.8112533936138251\n",
      "CV F1-Score (std): 0.014845632976922561\n"
     ]
    }
   ],
   "source": [
    "# Cross-validation with the best model\n",
    "skf = StratifiedKFold(n_splits=10, shuffle=True, random_state=42)\n",
    "cv_scores = cross_val_score(best_model, X_train, y_train, cv=skf, scoring='f1_weighted')\n",
    "print(\"CV F1-Score (mean):\", cv_scores.mean())\n",
    "print(\"CV F1-Score (std):\", cv_scores.std())"
   ]
  },
  {
   "cell_type": "code",
   "execution_count": 101,
   "metadata": {},
   "outputs": [
    {
     "name": "stdout",
     "output_type": "stream",
     "text": [
      "Test F1-Score: 0.8108721576757222\n",
      "Confusion Matrix (TP, TN, FP, FN): (2, 329, 5, 49)\n"
     ]
    }
   ],
   "source": [
    "# Evaluate on the test set\n",
    "y_pred = best_model.predict(X_test)\n",
    "f1 = f1_score(y_test, y_pred, average='weighted')\n",
    "cm = confusion_matrix(y_test, y_pred)\n",
    "if cm.size == 4:\n",
    "    tn, fp, fn, tp = cm.ravel()\n",
    "else:\n",
    "    tn = fp = fn = tp = 0\n",
    "\n",
    "print(\"Test F1-Score:\", f1)\n",
    "print(\"Confusion Matrix (TP, TN, FP, FN):\", (tp, tn, fp, fn))"
   ]
  },
  {
   "cell_type": "code",
   "execution_count": 103,
   "metadata": {},
   "outputs": [
    {
     "name": "stderr",
     "output_type": "stream",
     "text": [
      "2024/12/20 20:29:59 WARNING mlflow.models.model: Model logged without a signature and input example. Please set `input_example` parameter when logging the model to auto infer the model signature.\n"
     ]
    },
    {
     "name": "stdout",
     "output_type": "stream",
     "text": [
      "🏃 View run invincible-pig-113 at: https://dagshub.com/atluribhumika08/Code_Defect_Detection_Project.mlflow/#/experiments/8/runs/7c47fccd429e49d49fd18083b0ddf9a0\n",
      "🧪 View experiment at: https://dagshub.com/atluribhumika08/Code_Defect_Detection_Project.mlflow/#/experiments/8\n",
      "Experiment completed and logged in MLFlow.\n"
     ]
    }
   ],
   "source": [
    "# Log results in MLFlow\n",
    "dags_url = \"https://dagshub.com/atluribhumika08/Code_Defect_Detection_Project.mlflow\"\n",
    "os.environ['MLFLOW_TRACKING_URI'] = dags_url\n",
    "mlflow.set_experiment(\"Experiment 1 \")\n",
    "\n",
    "with mlflow.start_run():\n",
    "    # Log hyperparameters\n",
    "    mlflow.log_param(\"Best C\", grid_search.best_params_['classifier__C'])\n",
    "    mlflow.log_param(\"Best Solver\", grid_search.best_params_['classifier__solver'])\n",
    "\n",
    "    # Log metrics\n",
    "    mlflow.log_metric(\"mean_cv_f1_score\", cv_scores.mean())\n",
    "    mlflow.log_metric(\"std_cv_f1_score\", cv_scores.std())\n",
    "    mlflow.log_metric(\"test_f1_score\", f1)\n",
    "    mlflow.log_metric(\"tp\", tp)\n",
    "    mlflow.log_metric(\"tn\", tn)\n",
    "    mlflow.log_metric(\"fp\", fp)\n",
    "    mlflow.log_metric(\"fn\", fn)\n",
    "\n",
    "    # Log model\n",
    "    mlflow.sklearn.log_model(best_model, \"model\")\n",
    "\n",
    "print(\"Experiment completed and logged in MLFlow.\")\n"
   ]
  },
  {
   "cell_type": "markdown",
   "metadata": {},
   "source": [
    "Experiment #2: Create a pipeline for preprocessing and use LogisticRegression, RidgeClassifier, RandomForestClassifier, and XGBClassifier. Log results in MLFlow on DagsHub."
   ]
  },
  {
   "cell_type": "code",
   "execution_count": 105,
   "metadata": {},
   "outputs": [],
   "source": [
    "# Define classifiers\n",
    "classifiers = {\n",
    "    \"EX2 - Logistic Regression\": LogisticRegression(max_iter=1000, random_state=42),\n",
    "    \"EX2 - Ridge Classifier\": RidgeClassifier(random_state=42),\n",
    "    \"EX2 - Random Forest\": RandomForestClassifier(random_state=42),\n",
    "    \"EX2 - XGBoost\": XGBClassifier(eval_metric='logloss', random_state=42)\n",
    "}"
   ]
  },
  {
   "cell_type": "code",
   "execution_count": 108,
   "metadata": {},
   "outputs": [
    {
     "name": "stdout",
     "output_type": "stream",
     "text": [
      "Training and evaluating EX2 - Logistic Regression\n"
     ]
    },
    {
     "name": "stderr",
     "output_type": "stream",
     "text": [
      "2024/12/20 20:30:18 WARNING mlflow.models.model: Model logged without a signature and input example. Please set `input_example` parameter when logging the model to auto infer the model signature.\n"
     ]
    },
    {
     "name": "stdout",
     "output_type": "stream",
     "text": [
      "🏃 View run EX2 - Logistic Regression at: https://dagshub.com/atluribhumika08/Code_Defect_Detection_Project.mlflow/#/experiments/9/runs/290209310bdd482bb1053295ead6f36b\n",
      "🧪 View experiment at: https://dagshub.com/atluribhumika08/Code_Defect_Detection_Project.mlflow/#/experiments/9\n",
      "Training and evaluating EX2 - Ridge Classifier\n"
     ]
    },
    {
     "name": "stderr",
     "output_type": "stream",
     "text": [
      "2024/12/20 20:30:36 WARNING mlflow.models.model: Model logged without a signature and input example. Please set `input_example` parameter when logging the model to auto infer the model signature.\n"
     ]
    },
    {
     "name": "stdout",
     "output_type": "stream",
     "text": [
      "🏃 View run EX2 - Ridge Classifier at: https://dagshub.com/atluribhumika08/Code_Defect_Detection_Project.mlflow/#/experiments/9/runs/fe405187a97d42048eb7db9a3e14e160\n",
      "🧪 View experiment at: https://dagshub.com/atluribhumika08/Code_Defect_Detection_Project.mlflow/#/experiments/9\n",
      "Training and evaluating EX2 - Random Forest\n"
     ]
    },
    {
     "name": "stderr",
     "output_type": "stream",
     "text": [
      "2024/12/20 20:30:55 WARNING mlflow.models.model: Model logged without a signature and input example. Please set `input_example` parameter when logging the model to auto infer the model signature.\n"
     ]
    },
    {
     "name": "stdout",
     "output_type": "stream",
     "text": [
      "🏃 View run EX2 - Random Forest at: https://dagshub.com/atluribhumika08/Code_Defect_Detection_Project.mlflow/#/experiments/9/runs/7bafdb98d8e14f9e84ba46b25f7836f0\n",
      "🧪 View experiment at: https://dagshub.com/atluribhumika08/Code_Defect_Detection_Project.mlflow/#/experiments/9\n",
      "Training and evaluating EX2 - XGBoost\n"
     ]
    },
    {
     "name": "stderr",
     "output_type": "stream",
     "text": [
      "2024/12/20 20:31:19 WARNING mlflow.models.model: Model logged without a signature and input example. Please set `input_example` parameter when logging the model to auto infer the model signature.\n"
     ]
    },
    {
     "name": "stdout",
     "output_type": "stream",
     "text": [
      "🏃 View run EX2 - XGBoost at: https://dagshub.com/atluribhumika08/Code_Defect_Detection_Project.mlflow/#/experiments/9/runs/871e3b7bba20415eac3943e548aef8fc\n",
      "🧪 View experiment at: https://dagshub.com/atluribhumika08/Code_Defect_Detection_Project.mlflow/#/experiments/9\n",
      "\n",
      "Summary of Results:\n",
      "                  Classifier  Mean CV F1-Score  Std CV F1-Score  Test F1-Score\n",
      "0  EX2 - Logistic Regression          0.812057         0.016030       0.806652\n",
      "1     EX2 - Ridge Classifier          0.806034         0.013403       0.806652\n",
      "2        EX2 - Random Forest          0.826556         0.019823       0.856334\n",
      "3              EX2 - XGBoost          0.836847         0.022815       0.844589\n"
     ]
    }
   ],
   "source": [
    "# MLFlow experiment setup\n",
    "mlflow.set_experiment(\"Experiment 2 \")\n",
    "\n",
    "# Train and evaluate each classifier\n",
    "results = []\n",
    "for name, clf in classifiers.items():\n",
    "    print(f\"Training and evaluating {name}\")\n",
    "\n",
    "    # Create pipeline\n",
    "    pipeline = Pipeline(steps=[\n",
    "        ('preprocessor', preprocessor),\n",
    "        ('classifier', clf)\n",
    "    ])\n",
    "\n",
    "    # Perform cross-validation\n",
    "    skf = StratifiedKFold(n_splits=10, shuffle=True, random_state=42)\n",
    "    cv_scores = cross_val_score(pipeline, X_train, y_train, cv=skf, scoring='f1_weighted')\n",
    "\n",
    "    # Train and evaluate on the test set\n",
    "    pipeline.fit(X_train, y_train)\n",
    "    y_pred = pipeline.predict(X_test)\n",
    "\n",
    "    # Metrics\n",
    "    f1 = f1_score(y_test, y_pred, average='weighted')\n",
    "    cm = confusion_matrix(y_test, y_pred)\n",
    "    if cm.size == 4:\n",
    "        tn, fp, fn, tp = cm.ravel()\n",
    "    else:\n",
    "        tn = fp = fn = tp = 0\n",
    "\n",
    "    # Log results in MLFlow\n",
    "    with mlflow.start_run(run_name=name):\n",
    "        mlflow.log_param(\"Classifier\", name)\n",
    "        mlflow.log_metric(\"mean_cv_f1_score\", cv_scores.mean())\n",
    "        mlflow.log_metric(\"std_cv_f1_score\", cv_scores.std())\n",
    "        mlflow.log_metric(\"test_f1_score\", f1)\n",
    "        mlflow.log_metric(\"tp\", tp)\n",
    "        mlflow.log_metric(\"tn\", tn)\n",
    "        mlflow.log_metric(\"fp\", fp)\n",
    "        mlflow.log_metric(\"fn\", fn)\n",
    "\n",
    "        # Log model\n",
    "        mlflow.sklearn.log_model(pipeline, \"model\")\n",
    "\n",
    "    # Store results\n",
    "    results.append({\n",
    "        \"Classifier\": name,\n",
    "        \"Mean CV F1-Score\": cv_scores.mean(),\n",
    "        \"Std CV F1-Score\": cv_scores.std(),\n",
    "        \"Test F1-Score\": f1\n",
    "    })\n",
    "\n",
    "# Display results\n",
    "results_df = pd.DataFrame(results)\n",
    "print(\"\\nSummary of Results:\")\n",
    "print(results_df)"
   ]
  },
  {
   "cell_type": "markdown",
   "metadata": {},
   "source": [
    "Experiment #3: Perform feature engineering and attribute combination. Log results in MLFlow."
   ]
  },
  {
   "cell_type": "code",
   "execution_count": 110,
   "metadata": {},
   "outputs": [],
   "source": [
    "# Feature engineering function\n",
    "def feature_engineering(X):\n",
    "    \"\"\"Create new features and transform existing ones.\"\"\"\n",
    "\n",
    "    X_new = X.copy()\n",
    "\n",
    "    # Safely create new features based on available columns\n",
    "    if 'loc' in X_new.columns and 'total_Op' in X_new.columns:\n",
    "        X_new['loc_to_total_Op'] = X_new['loc'] / (X_new['total_Op'] + 1e-5)\n",
    "    if 'v' in X_new.columns and 'ev(g)' in X_new.columns:\n",
    "        X_new['v_to_ev'] = X_new['v'] / (X_new['ev(g)'] + 1e-5)\n",
    "    if 'total_Op' in X_new.columns and 'total_Opnd' in X_new.columns:\n",
    "        X_new['total_operations'] = X_new['total_Op'] + X_new['total_Opnd']\n",
    "\n",
    "    # Log transformations for skewed features\n",
    "    for col in ['v', 'e', 'branchCount']:\n",
    "        if col in X_new.columns:\n",
    "            X_new[f'log_{col}'] = np.log1p(X_new[col])\n",
    "\n",
    "    return X_new"
   ]
  },
  {
   "cell_type": "code",
   "execution_count": 111,
   "metadata": {},
   "outputs": [],
   "source": [
    "# Preprocessing pipeline with feature engineering\n",
    "preprocessor = ColumnTransformer(\n",
    "    transformers=[\n",
    "        ('num', Pipeline(steps=[\n",
    "            ('scaler', StandardScaler())\n",
    "        ]), slice(0, X_train.shape[1]))\n",
    "    ]\n",
    ")\n"
   ]
  },
  {
   "cell_type": "code",
   "execution_count": 112,
   "metadata": {},
   "outputs": [],
   "source": [
    "# Define classifiers\n",
    "classifiers = {\n",
    "    \"EX3 - Logistic Regression\": LogisticRegression(max_iter=1000, random_state=42),\n",
    "    \"EX3 - Ridge Classifier\": RidgeClassifier(random_state=42),\n",
    "    \"EX3 - Random Forest\": RandomForestClassifier(random_state=42),\n",
    "    \"EX3 - XGBoost\": XGBClassifier( eval_metric='logloss', random_state=42)\n",
    "}"
   ]
  },
  {
   "cell_type": "code",
   "execution_count": 117,
   "metadata": {},
   "outputs": [
    {
     "name": "stdout",
     "output_type": "stream",
     "text": [
      "Training and evaluating EX3 - Logistic Regression...\n",
      "🏃 View run EX3 - Logistic Regression at: https://dagshub.com/atluribhumika08/Code_Defect_Detection_Project.mlflow/#/experiments/3/runs/320c111bcf524c2b8ad4e5245e564a0f\n",
      "🧪 View experiment at: https://dagshub.com/atluribhumika08/Code_Defect_Detection_Project.mlflow/#/experiments/3\n",
      "Training and evaluating EX3 - Ridge Classifier...\n",
      "🏃 View run EX3 - Ridge Classifier at: https://dagshub.com/atluribhumika08/Code_Defect_Detection_Project.mlflow/#/experiments/3/runs/2f25b6220a1a4ffc9f083704a04f7dc4\n",
      "🧪 View experiment at: https://dagshub.com/atluribhumika08/Code_Defect_Detection_Project.mlflow/#/experiments/3\n",
      "Training and evaluating EX3 - Random Forest...\n",
      "🏃 View run EX3 - Random Forest at: https://dagshub.com/atluribhumika08/Code_Defect_Detection_Project.mlflow/#/experiments/3/runs/11739423eaa341e8a31464c2c20cea68\n",
      "🧪 View experiment at: https://dagshub.com/atluribhumika08/Code_Defect_Detection_Project.mlflow/#/experiments/3\n",
      "Training and evaluating EX3 - XGBoost...\n",
      "🏃 View run EX3 - XGBoost at: https://dagshub.com/atluribhumika08/Code_Defect_Detection_Project.mlflow/#/experiments/3/runs/4d4435f61bd44da596b0f06568427dd1\n",
      "🧪 View experiment at: https://dagshub.com/atluribhumika08/Code_Defect_Detection_Project.mlflow/#/experiments/3\n",
      "\n",
      "Summary of Results:\n",
      "                  Classifier  Mean CV F1-Score  Std CV F1-Score  Test F1-Score\n",
      "0  EX3 - Logistic Regression          0.811830         0.016657       0.810872\n",
      "1     EX3 - Ridge Classifier          0.811368         0.016688       0.806652\n",
      "2        EX3 - Random Forest          0.825955         0.016623       0.856334\n",
      "3              EX3 - XGBoost          0.836847         0.022815       0.844589\n"
     ]
    }
   ],
   "source": [
    "# MLFlow experiment setup\n",
    "mlflow.set_experiment(\"Experiment 3 - Feature Engineering\")\n",
    "\n",
    "# Train and evaluate each classifier\n",
    "results = []\n",
    "for name, clf in classifiers.items():\n",
    "    print(f\"Training and evaluating {name}...\")\n",
    "\n",
    "    # Create pipeline\n",
    "    pipeline = Pipeline(steps=[\n",
    "        ('feature_engineering', FunctionTransformer(feature_engineering, validate=False)),\n",
    "        ('preprocessor', preprocessor),\n",
    "        ('classifier', clf)\n",
    "    ])\n",
    "\n",
    "    # Perform cross-validation\n",
    "    skf = StratifiedKFold(n_splits=10, shuffle=True, random_state=42)\n",
    "    try:\n",
    "        cv_scores = cross_val_score(pipeline, X_train, y_train, cv=skf, scoring='f1_weighted')\n",
    "\n",
    "        # Train and evaluate on the test set\n",
    "        pipeline.fit(X_train, y_train)\n",
    "        y_pred = pipeline.predict(X_test)\n",
    "\n",
    "        # Metrics\n",
    "        f1 = f1_score(y_test, y_pred, average='weighted')\n",
    "        cm = confusion_matrix(y_test, y_pred)\n",
    "        if cm.size == 4:\n",
    "            tn, fp, fn, tp = cm.ravel()\n",
    "        else:\n",
    "            tn = fp = fn = tp = 0\n",
    "\n",
    "        # Log results in MLFlow\n",
    "        with mlflow.start_run(run_name=name):\n",
    "            mlflow.log_param(\"Classifier\", name)\n",
    "            mlflow.log_metric(\"mean_cv_f1_score\", cv_scores.mean())\n",
    "            mlflow.log_metric(\"std_cv_f1_score\", cv_scores.std())\n",
    "            mlflow.log_metric(\"test_f1_score\", f1)\n",
    "            mlflow.log_metric(\"tp\", tp)\n",
    "            mlflow.log_metric(\"tn\", tn)\n",
    "            mlflow.log_metric(\"fp\", fp)\n",
    "            mlflow.log_metric(\"fn\", fn)\n",
    "\n",
    "        # Store results\n",
    "        results.append({\n",
    "            \"Classifier\": name,\n",
    "            \"Mean CV F1-Score\": cv_scores.mean(),\n",
    "            \"Std CV F1-Score\": cv_scores.std(),\n",
    "            \"Test F1-Score\": f1\n",
    "        })\n",
    "\n",
    "    except ValueError as e:\n",
    "        print(f\"Error while processing {name}: {e}\")\n",
    "\n",
    "# Display results\n",
    "results_df = pd.DataFrame(results)\n",
    "print(\"\\nSummary of Results:\")\n",
    "print(results_df)\n"
   ]
  },
  {
   "cell_type": "markdown",
   "metadata": {},
   "source": [
    "Experiment #4: Perform feature selection using Correlation Threshold, Feature Importance, and Variance Threshold. Log results in MLFlow."
   ]
  },
  {
   "cell_type": "code",
   "execution_count": 119,
   "metadata": {},
   "outputs": [],
   "source": [
    "# Feature selection function\n",
    "def feature_selection(X, y):\n",
    "    \"\"\"Perform feature selection using variance, correlation, and feature importance.\"\"\"\n",
    "    X_new = X.copy()\n",
    "\n",
    "    # 1. Variance Threshold\n",
    "    variance_selector = VarianceThreshold(threshold=0.01)  # Remove low variance features\n",
    "    X_var = variance_selector.fit_transform(X_new)\n",
    "    selected_features_var = X.columns[variance_selector.get_support()]\n",
    "\n",
    "    # 2. Correlation Threshold (for demonstration, remove highly correlated features)\n",
    "    correlation_matrix = pd.DataFrame(X_var, columns=selected_features_var).corr()\n",
    "    correlated_features = set()\n",
    "    for i in range(len(correlation_matrix.columns)):\n",
    "        for j in range(i):\n",
    "            if abs(correlation_matrix.iloc[i, j]) > 0.9:  # Threshold\n",
    "                correlated_features.add(correlation_matrix.columns[i])\n",
    "    X_corr = pd.DataFrame(X_var, columns=selected_features_var).drop(columns=correlated_features, errors='ignore')\n",
    "\n",
    "    # 3. Feature Importance using Mutual Information\n",
    "    mi_selector = SelectKBest(score_func=mutual_info_classif, k='all')\n",
    "    mi_selector.fit(X_corr, y)\n",
    "    feature_scores = pd.DataFrame({\n",
    "        'Feature': X_corr.columns,\n",
    "        'Importance': mi_selector.scores_\n",
    "    }).sort_values(by='Importance', ascending=False)\n",
    "\n",
    "    # Keep top features based on mutual information (e.g., top 10 features)\n",
    "    top_features = feature_scores.nlargest(10, 'Importance')['Feature']\n",
    "    X_selected = X_corr[top_features]\n",
    "\n",
    "    return X_selected, top_features\n",
    "\n",
    "\n"
   ]
  },
  {
   "cell_type": "code",
   "execution_count": 120,
   "metadata": {},
   "outputs": [
    {
     "name": "stdout",
     "output_type": "stream",
     "text": [
      "0                  loc\n",
      "3                    i\n",
      "2                    l\n",
      "5              lOBlank\n",
      "1                ev(g)\n",
      "4            lOComment\n",
      "6    locCodeAndComment\n",
      "Name: Feature, dtype: object\n"
     ]
    }
   ],
   "source": [
    "# Perform feature selection\n",
    "X_train_selected, selected_features = feature_selection(X_train, y_train)\n",
    "X_test_selected = X_test[selected_features]\n",
    "\n",
    "print(selected_features)"
   ]
  },
  {
   "cell_type": "code",
   "execution_count": 121,
   "metadata": {},
   "outputs": [],
   "source": [
    "# Preprocessing pipeline\n",
    "preprocessor = ColumnTransformer(\n",
    "    transformers=[\n",
    "        ('num', StandardScaler(), selected_features)\n",
    "    ]\n",
    ")"
   ]
  },
  {
   "cell_type": "code",
   "execution_count": 122,
   "metadata": {},
   "outputs": [],
   "source": [
    "# Define classifiers\n",
    "classifiers = {\n",
    "    \"EX4 - Logistic Regression\": LogisticRegression(max_iter=1000, random_state=42),\n",
    "    \"EX4 - Random Forest\": RandomForestClassifier(random_state=42),\n",
    "    \"EX4 - XGBoost\": XGBClassifier(eval_metric='logloss', random_state=42)\n",
    "}"
   ]
  },
  {
   "cell_type": "code",
   "execution_count": 123,
   "metadata": {},
   "outputs": [
    {
     "name": "stdout",
     "output_type": "stream",
     "text": [
      "Training and evaluating EX4 - Logistic Regression...\n",
      "🏃 View run EX4 - Logistic Regression at: https://dagshub.com/atluribhumika08/Code_Defect_Detection_Project.mlflow/#/experiments/10/runs/90ebf807ceb049b4a70fee789da21e43\n",
      "🧪 View experiment at: https://dagshub.com/atluribhumika08/Code_Defect_Detection_Project.mlflow/#/experiments/10\n",
      "Training and evaluating EX4 - Random Forest...\n",
      "🏃 View run EX4 - Random Forest at: https://dagshub.com/atluribhumika08/Code_Defect_Detection_Project.mlflow/#/experiments/10/runs/2adc1221cd8a4377ae84cd6ffa19b6b3\n",
      "🧪 View experiment at: https://dagshub.com/atluribhumika08/Code_Defect_Detection_Project.mlflow/#/experiments/10\n",
      "Training and evaluating EX4 - XGBoost...\n",
      "🏃 View run EX4 - XGBoost at: https://dagshub.com/atluribhumika08/Code_Defect_Detection_Project.mlflow/#/experiments/10/runs/3bd4444c6fe7475eb713b5c6467da0f3\n",
      "🧪 View experiment at: https://dagshub.com/atluribhumika08/Code_Defect_Detection_Project.mlflow/#/experiments/10\n",
      "\n",
      "Summary of Results:\n",
      "                  Classifier  Mean CV F1-Score  Std CV F1-Score  Test F1-Score\n",
      "0  EX4 - Logistic Regression          0.811830         0.016657       0.810872\n",
      "1        EX4 - Random Forest          0.823986         0.019635       0.862332\n",
      "2              EX4 - XGBoost          0.840476         0.022850       0.869286\n"
     ]
    }
   ],
   "source": [
    "# MLFlow experiment setup\n",
    "mlflow.set_experiment(\"Experiment 4 \")\n",
    "\n",
    "# Train and evaluate each classifier\n",
    "results = []\n",
    "for name, clf in classifiers.items():\n",
    "    print(f\"Training and evaluating {name}...\")\n",
    "\n",
    "    # Create pipeline\n",
    "    pipeline = Pipeline(steps=[\n",
    "        ('preprocessor', preprocessor),\n",
    "        ('classifier', clf)\n",
    "    ])\n",
    "\n",
    "    # Perform cross-validation\n",
    "    skf = StratifiedKFold(n_splits=10, shuffle=True, random_state=42)\n",
    "    try:\n",
    "        cv_scores = cross_val_score(pipeline, X_train_selected, y_train, cv=skf, scoring='f1_weighted')\n",
    "\n",
    "        # Train and evaluate on the test set\n",
    "        pipeline.fit(X_train_selected, y_train)\n",
    "        y_pred = pipeline.predict(X_test_selected)\n",
    "\n",
    "        # Metrics\n",
    "        f1 = f1_score(y_test, y_pred, average='weighted')\n",
    "        cm = confusion_matrix(y_test, y_pred)\n",
    "        if cm.size == 4:\n",
    "            tn, fp, fn, tp = cm.ravel()\n",
    "        else:\n",
    "            tn = fp = fn = tp = 0\n",
    "\n",
    "        # Log results in MLFlow\n",
    "        with mlflow.start_run(run_name=name):\n",
    "            mlflow.log_param(\"Classifier\", name)\n",
    "            mlflow.log_param(\"Selected Features\", list(selected_features))\n",
    "            mlflow.log_metric(\"mean_cv_f1_score\", cv_scores.mean())\n",
    "            mlflow.log_metric(\"std_cv_f1_score\", cv_scores.std())\n",
    "            mlflow.log_metric(\"test_f1_score\", f1)\n",
    "            mlflow.log_metric(\"tp\", tp)\n",
    "            mlflow.log_metric(\"tn\", tn)\n",
    "            mlflow.log_metric(\"fp\", fp)\n",
    "            mlflow.log_metric(\"fn\", fn)\n",
    "\n",
    "        # Store results\n",
    "        results.append({\n",
    "            \"Classifier\": name,\n",
    "            \"Mean CV F1-Score\": cv_scores.mean(),\n",
    "            \"Std CV F1-Score\": cv_scores.std(),\n",
    "            \"Test F1-Score\": f1\n",
    "        })\n",
    "\n",
    "    except ValueError as e:\n",
    "        print(f\"Error while processing {name}: {e}\")\n",
    "\n",
    "# Display results\n",
    "results_df = pd.DataFrame(results)\n",
    "print(\"\\nSummary of Results:\")\n",
    "print(results_df)\n"
   ]
  },
  {
   "cell_type": "markdown",
   "metadata": {},
   "source": [
    "Experiment #5: Use PCA for dimensionality reduction on all the features. Create a scree plot to show which components will be selected for classification. Log results in MLFlow."
   ]
  },
  {
   "cell_type": "code",
   "execution_count": 125,
   "metadata": {},
   "outputs": [],
   "source": [
    "# Standardize features\n",
    "scaler = StandardScaler()\n",
    "X_train_scaled = scaler.fit_transform(X_train)\n",
    "X_test_scaled = scaler.transform(X_test)\n"
   ]
  },
  {
   "cell_type": "code",
   "execution_count": 126,
   "metadata": {},
   "outputs": [],
   "source": [
    "# Apply PCA for dimensionality reduction\n",
    "pca = PCA()\n",
    "X_train_pca = pca.fit_transform(X_train_scaled)\n",
    "X_test_pca = pca.transform(X_test_scaled)"
   ]
  },
  {
   "cell_type": "code",
   "execution_count": 132,
   "metadata": {},
   "outputs": [
    {
     "data": {
      "image/png": "[encoded data removed]",
      "text/plain": [
       "<Figure size 1000x600 with 1 Axes>"
      ]
     },
     "metadata": {},
     "output_type": "display_data"
    }
   ],
   "source": [
    "# Scree plot to determine the number of components\n",
    "explained_variance = pca.explained_variance_ratio_\n",
    "plt.figure(figsize=(10, 6))\n",
    "plt.plot(np.cumsum(explained_variance), marker='o', linestyle='--')\n",
    "plt.title('Scree Plot - Cumulative Explained Variance')\n",
    "plt.xlabel('Number of Components')\n",
    "plt.ylabel('Cumulative Explained Variance')\n",
    "plt.grid()\n",
    "plt.savefig(\"scree_plot.png\")  # Save the plot\n",
    "plt.show()"
   ]
  },
  {
   "cell_type": "code",
   "execution_count": 133,
   "metadata": {},
   "outputs": [
    {
     "name": "stdout",
     "output_type": "stream",
     "text": [
      "Number of components selected: 6\n"
     ]
    }
   ],
   "source": [
    "# Select the number of components to retain (e.g., 95% variance)\n",
    "n_components = np.argmax(np.cumsum(explained_variance) >= 0.95) + 1\n",
    "print(f\"Number of components selected: {n_components}\")\n"
   ]
  },
  {
   "cell_type": "code",
   "execution_count": 134,
   "metadata": {},
   "outputs": [],
   "source": [
    "# Reduce dimensionality with selected components\n",
    "pca = PCA(n_components=n_components)\n",
    "X_train_reduced = pca.fit_transform(X_train_scaled)\n",
    "X_test_reduced = pca.transform(X_test_scaled)"
   ]
  },
  {
   "cell_type": "code",
   "execution_count": 135,
   "metadata": {},
   "outputs": [],
   "source": [
    "classifiers = {\n",
    "    \"EX5 - Logistic Regression\": LogisticRegression(max_iter=1000, random_state=42),\n",
    "    \"EX5 - Random Forest\": RandomForestClassifier(random_state=42),\n",
    "    \"EX5 - XGBoost\": XGBClassifier(eval_metric='logloss', random_state=42)\n",
    "}"
   ]
  },
  {
   "cell_type": "code",
   "execution_count": 136,
   "metadata": {},
   "outputs": [
    {
     "name": "stdout",
     "output_type": "stream",
     "text": [
      "Training and evaluating EX5 - Logistic Regression...\n",
      "🏃 View run EX5 - Logistic Regression at: https://dagshub.com/atluribhumika08/Code_Defect_Detection_Project.mlflow/#/experiments/11/runs/050ca3641c74455f9f7b470d316bf2c4\n",
      "🧪 View experiment at: https://dagshub.com/atluribhumika08/Code_Defect_Detection_Project.mlflow/#/experiments/11\n",
      "Training and evaluating EX5 - Random Forest...\n",
      "🏃 View run EX5 - Random Forest at: https://dagshub.com/atluribhumika08/Code_Defect_Detection_Project.mlflow/#/experiments/11/runs/97f80513060e43d9b31f6c5f2fcc291e\n",
      "🧪 View experiment at: https://dagshub.com/atluribhumika08/Code_Defect_Detection_Project.mlflow/#/experiments/11\n",
      "Training and evaluating EX5 - XGBoost...\n",
      "🏃 View run EX5 - XGBoost at: https://dagshub.com/atluribhumika08/Code_Defect_Detection_Project.mlflow/#/experiments/11/runs/aab33cbc589c47609e8f036b36fad78c\n",
      "🧪 View experiment at: https://dagshub.com/atluribhumika08/Code_Defect_Detection_Project.mlflow/#/experiments/11\n",
      "\n",
      "Summary of Results:\n",
      "                  Classifier  Mean CV F1-Score  Std CV F1-Score  Test F1-Score\n",
      "0  EX5 - Logistic Regression          0.812678         0.015530       0.816335\n",
      "1        EX5 - Random Forest          0.823847         0.016496       0.836529\n",
      "2              EX5 - XGBoost          0.828787         0.019552       0.822882\n"
     ]
    }
   ],
   "source": [
    "# MLFlow experiment setup\n",
    "mlflow.set_experiment(\"Experiment 5 - PCA \")\n",
    "\n",
    "# Train and evaluate each classifier\n",
    "results = []\n",
    "for name, clf in classifiers.items():\n",
    "    print(f\"Training and evaluating {name}...\")\n",
    "\n",
    "    # Perform cross-validation\n",
    "    skf = StratifiedKFold(n_splits=10, shuffle=True, random_state=42)\n",
    "    try:\n",
    "        cv_scores = cross_val_score(clf, X_train_reduced, y_train, cv=skf, scoring='f1_weighted')\n",
    "\n",
    "        # Train and evaluate on the test set\n",
    "        clf.fit(X_train_reduced, y_train)\n",
    "        y_pred = clf.predict(X_test_reduced)\n",
    "\n",
    "        # Metrics\n",
    "        f1 = f1_score(y_test, y_pred, average='weighted')\n",
    "        cm = confusion_matrix(y_test, y_pred)\n",
    "        if cm.size == 4:\n",
    "            tn, fp, fn, tp = cm.ravel()\n",
    "        else:\n",
    "            tn = fp = fn = tp = 0\n",
    "\n",
    "        # Log results in MLFlow\n",
    "        with mlflow.start_run(run_name=name):\n",
    "            mlflow.log_param(\"Classifier\", name)\n",
    "            mlflow.log_param(\"Number of Components\", n_components)\n",
    "            mlflow.log_metric(\"mean_cv_f1_score\", cv_scores.mean())\n",
    "            mlflow.log_metric(\"std_cv_f1_score\", cv_scores.std())\n",
    "            mlflow.log_metric(\"test_f1_score\", f1)\n",
    "            mlflow.log_metric(\"tp\", tp)\n",
    "            mlflow.log_metric(\"tn\", tn)\n",
    "            mlflow.log_metric(\"fp\", fp)\n",
    "            mlflow.log_metric(\"fn\", fn)\n",
    "\n",
    "            # Log scree plot\n",
    "            mlflow.log_artifact(\"scree_plot.png\", artifact_path=\"plots\")\n",
    "\n",
    "        # Store results\n",
    "        results.append({\n",
    "            \"Classifier\": name,\n",
    "            \"Mean CV F1-Score\": cv_scores.mean(),\n",
    "            \"Std CV F1-Score\": cv_scores.std(),\n",
    "            \"Test F1-Score\": f1\n",
    "        })\n",
    "\n",
    "    except ValueError as e:\n",
    "        print(f\"Error while processing {name}: {e}\")\n",
    "\n",
    "# Display results\n",
    "results_df = pd.DataFrame(results)\n",
    "print(\"\\nSummary of Results:\")\n",
    "print(results_df)"
   ]
  },
  {
   "cell_type": "markdown",
   "metadata": {},
   "source": [
    "experiment 6 : KNN on the PCA "
   ]
  },
  {
   "cell_type": "code",
   "execution_count": 138,
   "metadata": {},
   "outputs": [],
   "source": [
    "# Define KNN classifier\n",
    "knn = KNeighborsClassifier()"
   ]
  },
  {
   "cell_type": "code",
   "execution_count": 139,
   "metadata": {},
   "outputs": [
    {
     "name": "stdout",
     "output_type": "stream",
     "text": [
      "Training and evaluating KNN...\n",
      "🏃 View run KNN at: https://dagshub.com/atluribhumika08/Code_Defect_Detection_Project.mlflow/#/experiments/12/runs/45406e7746c540ea8dcd3e93cfc0366b\n",
      "🧪 View experiment at: https://dagshub.com/atluribhumika08/Code_Defect_Detection_Project.mlflow/#/experiments/12\n",
      "\n",
      "Summary of Results:\n",
      "  Classifier  Mean CV F1-Score  Std CV F1-Score  Test F1-Score\n",
      "0        KNN          0.824311         0.015424       0.840232\n"
     ]
    }
   ],
   "source": [
    "# MLFlow experiment setup\n",
    "mlflow.set_experiment(\"Experiment 6- PCA with KNN\")\n",
    "\n",
    "# Train and evaluate KNN classifier\n",
    "results = []\n",
    "print(f\"Training and evaluating KNN...\")\n",
    "\n",
    "# Perform cross-validation\n",
    "skf = StratifiedKFold(n_splits=10, shuffle=True, random_state=42)\n",
    "try:\n",
    "    cv_scores = cross_val_score(knn, X_train_reduced, y_train, cv=skf, scoring='f1_weighted')\n",
    "\n",
    "    # Train and evaluate on the test set\n",
    "    knn.fit(X_train_reduced, y_train)\n",
    "    y_pred = knn.predict(X_test_reduced)\n",
    "\n",
    "    # Metrics\n",
    "    f1 = f1_score(y_test, y_pred, average='weighted')\n",
    "    cm = confusion_matrix(y_test, y_pred)\n",
    "    if cm.size == 4:\n",
    "        tn, fp, fn, tp = cm.ravel()\n",
    "    else:\n",
    "        tn = fp = fn = tp = 0\n",
    "\n",
    "    # Log results in MLFlow\n",
    "    with mlflow.start_run(run_name=\"KNN\"):\n",
    "        mlflow.log_param(\"Classifier\", \"KNN\")\n",
    "        mlflow.log_param(\"Number of Components\", n_components)\n",
    "        mlflow.log_metric(\"mean_cv_f1_score\", cv_scores.mean())\n",
    "        mlflow.log_metric(\"std_cv_f1_score\", cv_scores.std())\n",
    "        mlflow.log_metric(\"test_f1_score\", f1)\n",
    "        mlflow.log_metric(\"tp\", tp)\n",
    "        mlflow.log_metric(\"tn\", tn)\n",
    "        mlflow.log_metric(\"fp\", fp)\n",
    "        mlflow.log_metric(\"fn\", fn)\n",
    "\n",
    "\n",
    "    # Store results\n",
    "    results.append({\n",
    "        \"Classifier\": \"KNN\",\n",
    "        \"Mean CV F1-Score\": cv_scores.mean(),\n",
    "        \"Std CV F1-Score\": cv_scores.std(),\n",
    "        \"Test F1-Score\": f1\n",
    "    })\n",
    "\n",
    "except ValueError as e:\n",
    "    print(f\"Error while processing KNN: {e}\")\n",
    "\n",
    "# Display results\n",
    "results_df = pd.DataFrame(results)\n",
    "print(\"\\nSummary of Results:\")\n",
    "print(results_df)\n"
   ]
  },
  {
   "cell_type": "markdown",
   "metadata": {},
   "source": [
    "Experiment 7 - SVM"
   ]
  },
  {
   "cell_type": "code",
   "execution_count": 141,
   "metadata": {},
   "outputs": [],
   "source": [
    "# Define SVM classifier\n",
    "svm = SVC(kernel='rbf', probability=True, random_state=42)\n"
   ]
  },
  {
   "cell_type": "code",
   "execution_count": 142,
   "metadata": {},
   "outputs": [
    {
     "name": "stdout",
     "output_type": "stream",
     "text": [
      "Training and evaluating SVM...\n",
      "🏃 View run SVM at: https://dagshub.com/atluribhumika08/Code_Defect_Detection_Project.mlflow/#/experiments/13/runs/720645ad2a51423cbcf924e1f5077f66\n",
      "🧪 View experiment at: https://dagshub.com/atluribhumika08/Code_Defect_Detection_Project.mlflow/#/experiments/13\n",
      "\n",
      "Summary of Results:\n",
      "  Classifier  Mean CV F1-Score  Std CV F1-Score  Test F1-Score\n",
      "0        SVM          0.800487         0.012904       0.810824\n"
     ]
    }
   ],
   "source": [
    "# MLFlow experiment setup\n",
    "mlflow.set_experiment(\"Experiment - SVM \")\n",
    "\n",
    "# Train and evaluate SVM classifier\n",
    "results = []\n",
    "print(f\"Training and evaluating SVM...\")\n",
    "\n",
    "# Perform cross-validation\n",
    "skf = StratifiedKFold(n_splits=10, shuffle=True, random_state=42)\n",
    "try:\n",
    "    cv_scores = cross_val_score(svm, X_train_scaled, y_train, cv=skf, scoring='f1_weighted')\n",
    "\n",
    "    # Train and evaluate on the test set\n",
    "    svm.fit(X_train_scaled, y_train)\n",
    "    y_pred = svm.predict(X_test_scaled)\n",
    "\n",
    "    # Metrics\n",
    "    f1 = f1_score(y_test, y_pred, average='weighted')\n",
    "    cm = confusion_matrix(y_test, y_pred)\n",
    "    if cm.size == 4:\n",
    "        tn, fp, fn, tp = cm.ravel()\n",
    "    else:\n",
    "        tn = fp = fn = tp = 0\n",
    "\n",
    "    # Log results in MLFlow\n",
    "    with mlflow.start_run(run_name=\"SVM\"):\n",
    "        mlflow.log_param(\"Classifier\", \"SVM\")\n",
    "        mlflow.log_metric(\"mean_cv_f1_score\", cv_scores.mean())\n",
    "        mlflow.log_metric(\"std_cv_f1_score\", cv_scores.std())\n",
    "        mlflow.log_metric(\"test_f1_score\", f1)\n",
    "        mlflow.log_metric(\"tp\", tp)\n",
    "        mlflow.log_metric(\"tn\", tn)\n",
    "        mlflow.log_metric(\"fp\", fp)\n",
    "        mlflow.log_metric(\"fn\", fn)\n",
    "\n",
    "    # Store results\n",
    "    results.append({\n",
    "        \"Classifier\": \"SVM\",\n",
    "        \"Mean CV F1-Score\": cv_scores.mean(),\n",
    "        \"Std CV F1-Score\": cv_scores.std(),\n",
    "        \"Test F1-Score\": f1\n",
    "    })\n",
    "\n",
    "except ValueError as e:\n",
    "    print(f\"Error while processing SVM: {e}\")\n",
    "\n",
    "# Display results\n",
    "results_df = pd.DataFrame(results)\n",
    "print(\"\\nSummary of Results:\")\n",
    "print(results_df)"
   ]
  },
  {
   "cell_type": "markdown",
   "metadata": {},
   "source": [
    "Saving the Final model using joblib ( random forest on feature extraction)"
   ]
  },
  {
   "cell_type": "code",
   "execution_count": 144,
   "metadata": {},
   "outputs": [],
   "source": [
    "# Standardize selected features\n",
    "scaler = StandardScaler()\n",
    "X_train_scaled = scaler.fit_transform(X_train_selected)\n",
    "X_test_scaled = scaler.transform(X_test_selected)"
   ]
  },
  {
   "cell_type": "code",
   "execution_count": 146,
   "metadata": {},
   "outputs": [],
   "source": [
    "# Define Random Forest Classifier (Best Model from Experiment 4)\n",
    "rf = RandomForestClassifier(random_state=42)\n"
   ]
  },
  {
   "cell_type": "code",
   "execution_count": 149,
   "metadata": {},
   "outputs": [
    {
     "data": {
      "text/html": [
       "<style>#sk-container-id-3 {\n",
       "  /* Definition of color scheme common for light and dark mode */\n",
       "  --sklearn-color-text: black;\n",
       "  --sklearn-color-line: gray;\n",
       "  /* Definition of color scheme for unfitted estimators */\n",
       "  --sklearn-color-unfitted-level-0: #fff5e6;\n",
       "  --sklearn-color-unfitted-level-1: #f6e4d2;\n",
       "  --sklearn-color-unfitted-level-2: #ffe0b3;\n",
       "  --sklearn-color-unfitted-level-3: chocolate;\n",
       "  /* Definition of color scheme for fitted estimators */\n",
       "  --sklearn-color-fitted-level-0: #f0f8ff;\n",
       "  --sklearn-color-fitted-level-1: #d4ebff;\n",
       "  --sklearn-color-fitted-level-2: #b3dbfd;\n",
       "  --sklearn-color-fitted-level-3: cornflowerblue;\n",
       "\n",
       "  /* Specific color for light theme */\n",
       "  --sklearn-color-text-on-default-background: var(--sg-text-color, var(--theme-code-foreground, var(--jp-content-font-color1, black)));\n",
       "  --sklearn-color-background: var(--sg-background-color, var(--theme-background, var(--jp-layout-color0, white)));\n",
       "  --sklearn-color-border-box: var(--sg-text-color, var(--theme-code-foreground, var(--jp-content-font-color1, black)));\n",
       "  --sklearn-color-icon: #696969;\n",
       "\n",
       "  @media (prefers-color-scheme: dark) {\n",
       "    /* Redefinition of color scheme for dark theme */\n",
       "    --sklearn-color-text-on-default-background: var(--sg-text-color, var(--theme-code-foreground, var(--jp-content-font-color1, white)));\n",
       "    --sklearn-color-background: var(--sg-background-color, var(--theme-background, var(--jp-layout-color0, #111)));\n",
       "    --sklearn-color-border-box: var(--sg-text-color, var(--theme-code-foreground, var(--jp-content-font-color1, white)));\n",
       "    --sklearn-color-icon: #878787;\n",
       "  }\n",
       "}\n",
       "\n",
       "#sk-container-id-3 {\n",
       "  color: var(--sklearn-color-text);\n",
       "}\n",
       "\n",
       "#sk-container-id-3 pre {\n",
       "  padding: 0;\n",
       "}\n",
       "\n",
       "#sk-container-id-3 input.sk-hidden--visually {\n",
       "  border: 0;\n",
       "  clip: rect(1px 1px 1px 1px);\n",
       "  clip: rect(1px, 1px, 1px, 1px);\n",
       "  height: 1px;\n",
       "  margin: -1px;\n",
       "  overflow: hidden;\n",
       "  padding: 0;\n",
       "  position: absolute;\n",
       "  width: 1px;\n",
       "}\n",
       "\n",
       "#sk-container-id-3 div.sk-dashed-wrapped {\n",
       "  border: 1px dashed var(--sklearn-color-line);\n",
       "  margin: 0 0.4em 0.5em 0.4em;\n",
       "  box-sizing: border-box;\n",
       "  padding-bottom: 0.4em;\n",
       "  background-color: var(--sklearn-color-background);\n",
       "}\n",
       "\n",
       "#sk-container-id-3 div.sk-container {\n",
       "  /* jupyter's `normalize.less` sets `[hidden] { display: none; }`\n",
       "     but bootstrap.min.css set `[hidden] { display: none !important; }`\n",
       "     so we also need the `!important` here to be able to override the\n",
       "     default hidden behavior on the sphinx rendered scikit-learn.org.\n",
       "     See: https://github.com/scikit-learn/scikit-learn/issues/21755 */\n",
       "  display: inline-block !important;\n",
       "  position: relative;\n",
       "}\n",
       "\n",
       "#sk-container-id-3 div.sk-text-repr-fallback {\n",
       "  display: none;\n",
       "}\n",
       "\n",
       "div.sk-parallel-item,\n",
       "div.sk-serial,\n",
       "div.sk-item {\n",
       "  /* draw centered vertical line to link estimators */\n",
       "  background-image: linear-gradient(var(--sklearn-color-text-on-default-background), var(--sklearn-color-text-on-default-background));\n",
       "  background-size: 2px 100%;\n",
       "  background-repeat: no-repeat;\n",
       "  background-position: center center;\n",
       "}\n",
       "\n",
       "/* Parallel-specific style estimator block */\n",
       "\n",
       "#sk-container-id-3 div.sk-parallel-item::after {\n",
       "  content: \"\";\n",
       "  width: 100%;\n",
       "  border-bottom: 2px solid var(--sklearn-color-text-on-default-background);\n",
       "  flex-grow: 1;\n",
       "}\n",
       "\n",
       "#sk-container-id-3 div.sk-parallel {\n",
       "  display: flex;\n",
       "  align-items: stretch;\n",
       "  justify-content: center;\n",
       "  background-color: var(--sklearn-color-background);\n",
       "  position: relative;\n",
       "}\n",
       "\n",
       "#sk-container-id-3 div.sk-parallel-item {\n",
       "  display: flex;\n",
       "  flex-direction: column;\n",
       "}\n",
       "\n",
       "#sk-container-id-3 div.sk-parallel-item:first-child::after {\n",
       "  align-self: flex-end;\n",
       "  width: 50%;\n",
       "}\n",
       "\n",
       "#sk-container-id-3 div.sk-parallel-item:last-child::after {\n",
       "  align-self: flex-start;\n",
       "  width: 50%;\n",
       "}\n",
       "\n",
       "#sk-container-id-3 div.sk-parallel-item:only-child::after {\n",
       "  width: 0;\n",
       "}\n",
       "\n",
       "/* Serial-specific style estimator block */\n",
       "\n",
       "#sk-container-id-3 div.sk-serial {\n",
       "  display: flex;\n",
       "  flex-direction: column;\n",
       "  align-items: center;\n",
       "  background-color: var(--sklearn-color-background);\n",
       "  padding-right: 1em;\n",
       "  padding-left: 1em;\n",
       "}\n",
       "\n",
       "\n",
       "/* Toggleable style: style used for estimator/Pipeline/ColumnTransformer box that is\n",
       "clickable and can be expanded/collapsed.\n",
       "- Pipeline and ColumnTransformer use this feature and define the default style\n",
       "- Estimators will overwrite some part of the style using the `sk-estimator` class\n",
       "*/\n",
       "\n",
       "/* Pipeline and ColumnTransformer style (default) */\n",
       "\n",
       "#sk-container-id-3 div.sk-toggleable {\n",
       "  /* Default theme specific background. It is overwritten whether we have a\n",
       "  specific estimator or a Pipeline/ColumnTransformer */\n",
       "  background-color: var(--sklearn-color-background);\n",
       "}\n",
       "\n",
       "/* Toggleable label */\n",
       "#sk-container-id-3 label.sk-toggleable__label {\n",
       "  cursor: pointer;\n",
       "  display: block;\n",
       "  width: 100%;\n",
       "  margin-bottom: 0;\n",
       "  padding: 0.5em;\n",
       "  box-sizing: border-box;\n",
       "  text-align: center;\n",
       "}\n",
       "\n",
       "#sk-container-id-3 label.sk-toggleable__label-arrow:before {\n",
       "  /* Arrow on the left of the label */\n",
       "  content: \"▸\";\n",
       "  float: left;\n",
       "  margin-right: 0.25em;\n",
       "  color: var(--sklearn-color-icon);\n",
       "}\n",
       "\n",
       "#sk-container-id-3 label.sk-toggleable__label-arrow:hover:before {\n",
       "  color: var(--sklearn-color-text);\n",
       "}\n",
       "\n",
       "/* Toggleable content - dropdown */\n",
       "\n",
       "#sk-container-id-3 div.sk-toggleable__content {\n",
       "  max-height: 0;\n",
       "  max-width: 0;\n",
       "  overflow: hidden;\n",
       "  text-align: left;\n",
       "  /* unfitted */\n",
       "  background-color: var(--sklearn-color-unfitted-level-0);\n",
       "}\n",
       "\n",
       "#sk-container-id-3 div.sk-toggleable__content.fitted {\n",
       "  /* fitted */\n",
       "  background-color: var(--sklearn-color-fitted-level-0);\n",
       "}\n",
       "\n",
       "#sk-container-id-3 div.sk-toggleable__content pre {\n",
       "  margin: 0.2em;\n",
       "  border-radius: 0.25em;\n",
       "  color: var(--sklearn-color-text);\n",
       "  /* unfitted */\n",
       "  background-color: var(--sklearn-color-unfitted-level-0);\n",
       "}\n",
       "\n",
       "#sk-container-id-3 div.sk-toggleable__content.fitted pre {\n",
       "  /* unfitted */\n",
       "  background-color: var(--sklearn-color-fitted-level-0);\n",
       "}\n",
       "\n",
       "#sk-container-id-3 input.sk-toggleable__control:checked~div.sk-toggleable__content {\n",
       "  /* Expand drop-down */\n",
       "  max-height: 200px;\n",
       "  max-width: 100%;\n",
       "  overflow: auto;\n",
       "}\n",
       "\n",
       "#sk-container-id-3 input.sk-toggleable__control:checked~label.sk-toggleable__label-arrow:before {\n",
       "  content: \"▾\";\n",
       "}\n",
       "\n",
       "/* Pipeline/ColumnTransformer-specific style */\n",
       "\n",
       "#sk-container-id-3 div.sk-label input.sk-toggleable__control:checked~label.sk-toggleable__label {\n",
       "  color: var(--sklearn-color-text);\n",
       "  background-color: var(--sklearn-color-unfitted-level-2);\n",
       "}\n",
       "\n",
       "#sk-container-id-3 div.sk-label.fitted input.sk-toggleable__control:checked~label.sk-toggleable__label {\n",
       "  background-color: var(--sklearn-color-fitted-level-2);\n",
       "}\n",
       "\n",
       "/* Estimator-specific style */\n",
       "\n",
       "/* Colorize estimator box */\n",
       "#sk-container-id-3 div.sk-estimator input.sk-toggleable__control:checked~label.sk-toggleable__label {\n",
       "  /* unfitted */\n",
       "  background-color: var(--sklearn-color-unfitted-level-2);\n",
       "}\n",
       "\n",
       "#sk-container-id-3 div.sk-estimator.fitted input.sk-toggleable__control:checked~label.sk-toggleable__label {\n",
       "  /* fitted */\n",
       "  background-color: var(--sklearn-color-fitted-level-2);\n",
       "}\n",
       "\n",
       "#sk-container-id-3 div.sk-label label.sk-toggleable__label,\n",
       "#sk-container-id-3 div.sk-label label {\n",
       "  /* The background is the default theme color */\n",
       "  color: var(--sklearn-color-text-on-default-background);\n",
       "}\n",
       "\n",
       "/* On hover, darken the color of the background */\n",
       "#sk-container-id-3 div.sk-label:hover label.sk-toggleable__label {\n",
       "  color: var(--sklearn-color-text);\n",
       "  background-color: var(--sklearn-color-unfitted-level-2);\n",
       "}\n",
       "\n",
       "/* Label box, darken color on hover, fitted */\n",
       "#sk-container-id-3 div.sk-label.fitted:hover label.sk-toggleable__label.fitted {\n",
       "  color: var(--sklearn-color-text);\n",
       "  background-color: var(--sklearn-color-fitted-level-2);\n",
       "}\n",
       "\n",
       "/* Estimator label */\n",
       "\n",
       "#sk-container-id-3 div.sk-label label {\n",
       "  font-family: monospace;\n",
       "  font-weight: bold;\n",
       "  display: inline-block;\n",
       "  line-height: 1.2em;\n",
       "}\n",
       "\n",
       "#sk-container-id-3 div.sk-label-container {\n",
       "  text-align: center;\n",
       "}\n",
       "\n",
       "/* Estimator-specific */\n",
       "#sk-container-id-3 div.sk-estimator {\n",
       "  font-family: monospace;\n",
       "  border: 1px dotted var(--sklearn-color-border-box);\n",
       "  border-radius: 0.25em;\n",
       "  box-sizing: border-box;\n",
       "  margin-bottom: 0.5em;\n",
       "  /* unfitted */\n",
       "  background-color: var(--sklearn-color-unfitted-level-0);\n",
       "}\n",
       "\n",
       "#sk-container-id-3 div.sk-estimator.fitted {\n",
       "  /* fitted */\n",
       "  background-color: var(--sklearn-color-fitted-level-0);\n",
       "}\n",
       "\n",
       "/* on hover */\n",
       "#sk-container-id-3 div.sk-estimator:hover {\n",
       "  /* unfitted */\n",
       "  background-color: var(--sklearn-color-unfitted-level-2);\n",
       "}\n",
       "\n",
       "#sk-container-id-3 div.sk-estimator.fitted:hover {\n",
       "  /* fitted */\n",
       "  background-color: var(--sklearn-color-fitted-level-2);\n",
       "}\n",
       "\n",
       "/* Specification for estimator info (e.g. \"i\" and \"?\") */\n",
       "\n",
       "/* Common style for \"i\" and \"?\" */\n",
       "\n",
       ".sk-estimator-doc-link,\n",
       "a:link.sk-estimator-doc-link,\n",
       "a:visited.sk-estimator-doc-link {\n",
       "  float: right;\n",
       "  font-size: smaller;\n",
       "  line-height: 1em;\n",
       "  font-family: monospace;\n",
       "  background-color: var(--sklearn-color-background);\n",
       "  border-radius: 1em;\n",
       "  height: 1em;\n",
       "  width: 1em;\n",
       "  text-decoration: none !important;\n",
       "  margin-left: 1ex;\n",
       "  /* unfitted */\n",
       "  border: var(--sklearn-color-unfitted-level-1) 1pt solid;\n",
       "  color: var(--sklearn-color-unfitted-level-1);\n",
       "}\n",
       "\n",
       ".sk-estimator-doc-link.fitted,\n",
       "a:link.sk-estimator-doc-link.fitted,\n",
       "a:visited.sk-estimator-doc-link.fitted {\n",
       "  /* fitted */\n",
       "  border: var(--sklearn-color-fitted-level-1) 1pt solid;\n",
       "  color: var(--sklearn-color-fitted-level-1);\n",
       "}\n",
       "\n",
       "/* On hover */\n",
       "div.sk-estimator:hover .sk-estimator-doc-link:hover,\n",
       ".sk-estimator-doc-link:hover,\n",
       "div.sk-label-container:hover .sk-estimator-doc-link:hover,\n",
       ".sk-estimator-doc-link:hover {\n",
       "  /* unfitted */\n",
       "  background-color: var(--sklearn-color-unfitted-level-3);\n",
       "  color: var(--sklearn-color-background);\n",
       "  text-decoration: none;\n",
       "}\n",
       "\n",
       "div.sk-estimator.fitted:hover .sk-estimator-doc-link.fitted:hover,\n",
       ".sk-estimator-doc-link.fitted:hover,\n",
       "div.sk-label-container:hover .sk-estimator-doc-link.fitted:hover,\n",
       ".sk-estimator-doc-link.fitted:hover {\n",
       "  /* fitted */\n",
       "  background-color: var(--sklearn-color-fitted-level-3);\n",
       "  color: var(--sklearn-color-background);\n",
       "  text-decoration: none;\n",
       "}\n",
       "\n",
       "/* Span, style for the box shown on hovering the info icon */\n",
       ".sk-estimator-doc-link span {\n",
       "  display: none;\n",
       "  z-index: 9999;\n",
       "  position: relative;\n",
       "  font-weight: normal;\n",
       "  right: .2ex;\n",
       "  padding: .5ex;\n",
       "  margin: .5ex;\n",
       "  width: min-content;\n",
       "  min-width: 20ex;\n",
       "  max-width: 50ex;\n",
       "  color: var(--sklearn-color-text);\n",
       "  box-shadow: 2pt 2pt 4pt #999;\n",
       "  /* unfitted */\n",
       "  background: var(--sklearn-color-unfitted-level-0);\n",
       "  border: .5pt solid var(--sklearn-color-unfitted-level-3);\n",
       "}\n",
       "\n",
       ".sk-estimator-doc-link.fitted span {\n",
       "  /* fitted */\n",
       "  background: var(--sklearn-color-fitted-level-0);\n",
       "  border: var(--sklearn-color-fitted-level-3);\n",
       "}\n",
       "\n",
       ".sk-estimator-doc-link:hover span {\n",
       "  display: block;\n",
       "}\n",
       "\n",
       "/* \"?\"-specific style due to the `<a>` HTML tag */\n",
       "\n",
       "#sk-container-id-3 a.estimator_doc_link {\n",
       "  float: right;\n",
       "  font-size: 1rem;\n",
       "  line-height: 1em;\n",
       "  font-family: monospace;\n",
       "  background-color: var(--sklearn-color-background);\n",
       "  border-radius: 1rem;\n",
       "  height: 1rem;\n",
       "  width: 1rem;\n",
       "  text-decoration: none;\n",
       "  /* unfitted */\n",
       "  color: var(--sklearn-color-unfitted-level-1);\n",
       "  border: var(--sklearn-color-unfitted-level-1) 1pt solid;\n",
       "}\n",
       "\n",
       "#sk-container-id-3 a.estimator_doc_link.fitted {\n",
       "  /* fitted */\n",
       "  border: var(--sklearn-color-fitted-level-1) 1pt solid;\n",
       "  color: var(--sklearn-color-fitted-level-1);\n",
       "}\n",
       "\n",
       "/* On hover */\n",
       "#sk-container-id-3 a.estimator_doc_link:hover {\n",
       "  /* unfitted */\n",
       "  background-color: var(--sklearn-color-unfitted-level-3);\n",
       "  color: var(--sklearn-color-background);\n",
       "  text-decoration: none;\n",
       "}\n",
       "\n",
       "#sk-container-id-3 a.estimator_doc_link.fitted:hover {\n",
       "  /* fitted */\n",
       "  background-color: var(--sklearn-color-fitted-level-3);\n",
       "}\n",
       "</style><div id=\"sk-container-id-3\" class=\"sk-top-container\"><div class=\"sk-text-repr-fallback\"><pre>RandomForestClassifier(random_state=42)</pre><b>In a Jupyter environment, please rerun this cell to show the HTML representation or trust the notebook. <br />On GitHub, the HTML representation is unable to render, please try loading this page with nbviewer.org.</b></div><div class=\"sk-container\" hidden><div class=\"sk-item\"><div class=\"sk-estimator fitted sk-toggleable\"><input class=\"sk-toggleable__control sk-hidden--visually\" id=\"sk-estimator-id-21\" type=\"checkbox\" checked><label for=\"sk-estimator-id-21\" class=\"sk-toggleable__label fitted sk-toggleable__label-arrow fitted\">&nbsp;&nbsp;RandomForestClassifier<a class=\"sk-estimator-doc-link fitted\" rel=\"noreferrer\" target=\"_blank\" href=\"https://scikit-learn.org/1.5/modules/generated/sklearn.ensemble.RandomForestClassifier.html\">?<span>Documentation for RandomForestClassifier</span></a><span class=\"sk-estimator-doc-link fitted\">i<span>Fitted</span></span></label><div class=\"sk-toggleable__content fitted\"><pre>RandomForestClassifier(random_state=42)</pre></div> </div></div></div></div>"
      ],
      "text/plain": [
       "RandomForestClassifier(random_state=42)"
      ]
     },
     "execution_count": 149,
     "metadata": {},
     "output_type": "execute_result"
    }
   ],
   "source": [
    "# Train the final model on the full training data\n",
    "rf.fit(X_train_scaled, y_train)"
   ]
  },
  {
   "cell_type": "code",
   "execution_count": 154,
   "metadata": {},
   "outputs": [
    {
     "data": {
      "text/plain": [
       "['final_model.joblib']"
      ]
     },
     "execution_count": 154,
     "metadata": {},
     "output_type": "execute_result"
    }
   ],
   "source": [
    "import joblib\n",
    "# Save the final model using joblib\n",
    "joblib.dump(rf, \"final_model.joblib\")"
   ]
  },
  {
   "cell_type": "markdown",
   "metadata": {},
   "source": [
    "FASTAPI"
   ]
  },
  {
   "cell_type": "code",
   "execution_count": 165,
   "metadata": {},
   "outputs": [],
   "source": [
    "from fastapi import FastAPI\n",
    "from pydantic import BaseModel"
   ]
  },
  {
   "cell_type": "code",
   "execution_count": 166,
   "metadata": {},
   "outputs": [],
   "source": [
    "class InputData(BaseModel):\n",
    "    features: list"
   ]
  },
  {
   "cell_type": "code",
   "execution_count": 169,
   "metadata": {},
   "outputs": [],
   "source": [
    "# Create FastAPI app\n",
    "app = FastAPI()"
   ]
  },
  {
   "cell_type": "code",
   "execution_count": 171,
   "metadata": {},
   "outputs": [],
   "source": [
    "# Load the trained model\n",
    "model = joblib.load(\"final_model.joblib\")\n"
   ]
  },
  {
   "cell_type": "code",
   "execution_count": 173,
   "metadata": {},
   "outputs": [],
   "source": [
    "@app.post(\"/predict\")\n",
    "def predict(data: InputData):\n",
    "    try:\n",
    "        # Convert input to numpy array and reshape for prediction\n",
    "        input_features = np.array(data.features).reshape(1, -1)\n",
    "        prediction = model.predict(input_features)\n",
    "        probability = model.predict_proba(input_features).max()\n",
    "        return {\"prediction\": int(prediction[0]), \"probability\": float(probability)}\n",
    "    except Exception as e:\n",
    "        return {\"error\": str(e)}"
   ]
  },
  {
   "cell_type": "code",
   "execution_count": 175,
   "metadata": {},
   "outputs": [
    {
     "name": "stdout",
     "output_type": "stream",
     "text": [
      "Sample 1: Features: [-0.7434210549362595, -1.1320183542649478, -1.167527229830806, -0.5649818744624988, -0.29336924582129054, -0.3693532046941015, -0.20044096024198998], Actual Label: 0\n",
      "Sample 2: Features: [-0.6342329407252657, -0.8060172377103233, 1.279034736752774, -0.5649818744624988, -0.29336924582129054, -0.3693532046941015, -0.20044096024198998], Actual Label: 0\n",
      "Sample 3: Features: [-0.14288642677579286, -0.3099817676806788, -0.7293370268606125, 0.8750777892733492, -0.29336924582129054, -0.3693532046941015, -0.20044096024198998], Actual Label: 1\n",
      "Sample 4: Features: [-0.47045076940877467, -0.1087540615897378, 0.03749582833722593, -0.5649818744624988, -0.29336924582129054, -0.3693532046941015, -0.20044096024198998], Actual Label: 0\n",
      "Sample 5: Features: [0.3484600871736801, 0.3047107691624688, -0.7658528771081287, -0.08496198655054944, -0.29336924582129054, -0.3693532046941015, 3.2850046261881696], Actual Label: 0\n",
      "Sample 6: Features: [-0.6342329407252657, -0.7772704225544745, 0.6582652825449998, -0.5649818744624988, -0.29336924582129054, -0.3693532046941015, -0.20044096024198998], Actual Label: 0\n",
      "Sample 7: Features: [-0.6342329407252657, -1.1320183542649478, -1.167527229830806, -0.08496198655054944, -0.29336924582129054, -0.3693532046941015, -0.20044096024198998], Actual Label: 0\n",
      "Sample 8: Features: [1.0035887724396435, 0.229479742265248, -0.9119162780981931, -0.08496198655054944, -0.29336924582129054, 3.083680041102008, 3.2850046261881696], Actual Label: 0\n",
      "Sample 9: Features: [-0.6342329407252657, -0.8414920308813706, 2.484057794920805, -0.5649818744624988, -0.29336924582129054, -0.3693532046941015, -0.20044096024198998], Actual Label: 0\n",
      "Sample 10: Features: [-0.7434210549362595, -0.8414920308813706, 2.484057794920805, -0.5649818744624988, -0.29336924582129054, -0.3693532046941015, -0.20044096024198998], Actual Label: 0\n",
      "Sample 11: Features: [-0.47045076940877467, -0.7197767922427771, -0.18159927314787075, -0.08496198655054944, -0.29336924582129054, -0.3693532046941015, -0.20044096024198998], Actual Label: 1\n",
      "Sample 12: Features: [-0.7434210549362595, -0.8060172377103233, 1.279034736752774, -0.5649818744624988, -0.29336924582129054, -0.3693532046941015, -0.20044096024198998], Actual Label: 0\n",
      "Sample 13: Features: [-0.7434210549362595, -0.8060172377103233, 1.279034736752774, -0.5649818744624988, -0.29336924582129054, -0.3693532046941015, -0.20044096024198998], Actual Label: 0\n",
      "Sample 14: Features: [1.0581828295451408, 3.4454532335301944, -0.8023687273556447, 0.3950579013613999, -0.29336924582129054, -0.3693532046941015, -0.20044096024198998], Actual Label: 0\n",
      "Sample 15: Features: [-0.41585671230327775, -0.8219197312007926, -0.7658528771081287, -0.5649818744624988, -0.29336924582129054, -0.3693532046941015, -0.20044096024198998], Actual Label: 0\n",
      "Sample 16: Features: [-0.5796388836197687, -0.20783882872266318, -0.36417852438545134, -0.5649818744624988, -0.29336924582129054, -0.3693532046941015, -0.20044096024198998], Actual Label: 0\n",
      "Sample 17: Features: [-0.5796388836197687, -0.5503540731327753, 0.03749582833722593, -0.5649818744624988, -0.29336924582129054, -0.3693532046941015, -0.20044096024198998], Actual Label: 0\n",
      "Sample 18: Features: [-0.6342329407252657, -0.8060172377103233, 1.279034736752774, -0.5649818744624988, -0.29336924582129054, -0.3693532046941015, -0.20044096024198998], Actual Label: 0\n",
      "Sample 19: Features: [1.7679055719166017, 1.6185013852212564, -0.9484321283457092, -0.08496198655054944, -0.29336924582129054, 1.0118600936243427, -0.20044096024198998], Actual Label: 1\n",
      "Sample 20: Features: [-0.033698312564798744, 0.4716869508123987, 1.1694871860102254, -0.5649818744624988, -0.29336924582129054, -0.3693532046941015, -0.20044096024198998], Actual Label: 0\n"
     ]
    }
   ],
   "source": [
    "# Extracting sample rows from the test set after scaling\n",
    "sample_features = X_test_scaled[:20].tolist()\n",
    "sample_labels = y_test[:20].tolist()\n",
    "\n",
    "# Print the sample inputs and actual labels -  to cross check if my model is working fine or not\n",
    "for i, (features, label) in enumerate(zip(sample_features, sample_labels)):\n",
    "    print(f\"Sample {i+1}: Features: {features}, Actual Label: {label}\")\n"
   ]
  },
  {
   "cell_type": "markdown",
   "metadata": {},
   "source": [
    "Calling the FASTAPI"
   ]
  },
  {
   "cell_type": "code",
   "execution_count": 178,
   "metadata": {},
   "outputs": [
    {
     "name": "stderr",
     "output_type": "stream",
     "text": [
      "INFO:     Started server process [5980]\n",
      "INFO:     Waiting for application startup.\n",
      "INFO:     Application startup complete.\n",
      "INFO:     Uvicorn running on http://0.0.0.0:8000 (Press CTRL+C to quit)\n"
     ]
    },
    {
     "name": "stdout",
     "output_type": "stream",
     "text": [
      "INFO:     127.0.0.1:58159 - \"GET /docs HTTP/1.1\" 200 OK\n",
      "INFO:     127.0.0.1:58159 - \"GET /openapi.json HTTP/1.1\" 200 OK\n",
      "INFO:     127.0.0.1:58171 - \"POST /predict HTTP/1.1\" 200 OK\n"
     ]
    },
    {
     "name": "stderr",
     "output_type": "stream",
     "text": [
      "INFO:     Shutting down\n",
      "INFO:     Waiting for application shutdown.\n",
      "INFO:     Application shutdown complete.\n",
      "INFO:     Finished server process [5980]\n"
     ]
    }
   ],
   "source": [
    "import nest_asyncio\n",
    "nest_asyncio.apply()\n",
    "\n",
    "import uvicorn\n",
    "uvicorn.run(app, host=\"0.0.0.0\", port=8000)\n"
   ]
  },
  {
   "cell_type": "code",
   "execution_count": null,
   "metadata": {},
   "outputs": [],
   "source": []
  }
 ],
 "metadata": {
  "kernelspec": {
   "display_name": "Python 3 (ipykernel)",
   "language": "python",
   "name": "python3"
  },
  "language_info": {
   "codemirror_mode": {
    "name": "ipython",
    "version": 3
   },
   "file_extension": ".py",
   "mimetype": "text/x-python",
   "name": "python",
   "nbconvert_exporter": "python",
   "pygments_lexer": "ipython3",
   "version": "3.9.5"
  }
 },
 "nbformat": 4,
 "nbformat_minor": 4
}